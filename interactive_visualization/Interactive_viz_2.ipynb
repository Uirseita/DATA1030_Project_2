{
 "cells": [
  {
   "cell_type": "code",
   "execution_count": 1,
   "metadata": {},
   "outputs": [],
   "source": [
    "import numpy as np\n",
    "import pandas as pd\n",
    "import matplotlib.pyplot as plt\n",
    "import seaborn as sns\n",
    "import random\n",
    "from datetime import datetime\n",
    "from datetime import timedelta\n",
    "# sns.set(style=\"darkgrid\")\n",
    "import requests\n",
    "import pprint\n",
    "import re\n",
    "pd.options.display.max_columns = 999"
   ]
  },
  {
   "cell_type": "code",
   "execution_count": 2,
   "metadata": {},
   "outputs": [
    {
     "name": "stderr",
     "output_type": "stream",
     "text": [
      "C:\\Users\\Qingyu\\Anaconda3\\envs\\project2env\\lib\\site-packages\\IPython\\core\\interactiveshell.py:3020: DtypeWarning: Columns (7,22,36,37,38,39,40,41,43,44,46,47,48,49,89,186) have mixed types. Specify dtype option on import or set low_memory=False.\n",
      "  interactivity=interactivity, compiler=compiler, result=result)\n"
     ]
    },
    {
     "name": "stdout",
     "output_type": "stream",
     "text": [
      "Time spent: 0:00:23.278527\n"
     ]
    }
   ],
   "source": [
    "times1 = datetime.now()\n",
    "df = pd.read_csv('../Car_Crash/Data/Crash.csv',skipinitialspace=True)\n",
    "times2 = datetime.now()\n",
    "print('Time spent: '+ str(times2-times1)) # print the time cost"
   ]
  },
  {
   "cell_type": "code",
   "execution_count": 3,
   "metadata": {},
   "outputs": [],
   "source": [
    "df = df[~df['Postal'].isnull()]"
   ]
  },
  {
   "cell_type": "code",
   "execution_count": 4,
   "metadata": {},
   "outputs": [],
   "source": [
    "# convert zip code into strings\n",
    "df.Postal = df.Postal.astype(int).astype(str)\n",
    "df.Postal = df.Postal.apply(lambda x: x if len(x) == 5 else '0'+x)"
   ]
  },
  {
   "cell_type": "code",
   "execution_count": 5,
   "metadata": {},
   "outputs": [],
   "source": [
    "# preprocess illumination\n",
    "df.Illumination = df.Illumination.str.replace('– ', '', regex=False)\n",
    "df.Illumination = df.Illumination.str.replace('Unknown (expired)', 'Other',\n",
    "                                              regex=False)\n",
    "df.Illumination = df.Illumination.fillna('Other')\n",
    "\n",
    "# preprocess weather\n",
    "df.Weather = df.Weather.str.replace('Sleet (hail)', 'Sleet(hail)', regex=False)\n",
    "df.Weather = df.Weather.str.replace('Unknown ', 'Other', regex=False)\n",
    "df.Weather = df.Weather.fillna('Other')\n",
    "\n",
    "# preprocess road condition\n",
    "df.Road_Condition = df.Road_Condition.str.replace('Sand/ mud/ dirt/ oil/ or '\n",
    "                                                  'gravel',\n",
    "                                                  'Sand/mud/dirt/oil/or gravel'\n",
    "                                                  , regex=False)\n",
    "df.Road_Condition = df.Road_Condition.str.replace('Unknown (expired)',\n",
    "                                                  'Other', regex=False)\n",
    "df.Road_Condition = df.Road_Condition.fillna('Other')\n",
    "\n",
    "# delete the rows with hour of day 99\n",
    "df = df[~(df['Hour_of_Day'] == 99)]"
   ]
  },
  {
   "cell_type": "markdown",
   "metadata": {},
   "source": [
    "# crash type pie chart"
   ]
  },
  {
   "cell_type": "code",
   "execution_count": 14,
   "metadata": {},
   "outputs": [],
   "source": [
    "crash_type_df = df.groupby('Collision_Type').Crash_Record_Number.count().reset_index()\n",
    "crash_type_df.Crash_Record_Number = crash_type_df.Crash_Record_Number/ crash_type_df.Crash_Record_Number.sum() * 100\n",
    "crash_type_df.rename(columns={'Crash_Record_Number':'Percentage'}, inplace=True)"
   ]
  },
  {
   "cell_type": "code",
   "execution_count": 15,
   "metadata": {},
   "outputs": [],
   "source": [
    "labels = crash_type_df.Collision_Type.values.tolist()\n",
    "values = crash_type_df.Percentage.values.tolist()"
   ]
  },
  {
   "cell_type": "code",
   "execution_count": 16,
   "metadata": {},
   "outputs": [
    {
     "name": "stderr",
     "output_type": "stream",
     "text": [
      "C:\\Users\\Qingyu\\Anaconda3\\envs\\project2env\\lib\\site-packages\\IPython\\core\\display.py:689: UserWarning:\n",
      "\n",
      "Consider using IPython.display.IFrame instead\n",
      "\n"
     ]
    },
    {
     "data": {
      "text/html": [
       "<iframe id=\"igraph\" scrolling=\"no\" style=\"border:none;\" seamless=\"seamless\" src=\"https://plot.ly/~Uirseita/14.embed\" height=\"525px\" width=\"100%\"></iframe>"
      ],
      "text/plain": [
       "<plotly.tools.PlotlyDisplay object>"
      ]
     },
     "execution_count": 16,
     "metadata": {},
     "output_type": "execute_result"
    }
   ],
   "source": [
    "import plotly.plotly as py\n",
    "import plotly.graph_objs as go\n",
    "\n",
    "trace = go.Pie(labels=labels, values=values,\n",
    "               hoverinfo='label+percent', \n",
    "               textfont=dict(size=20),\n",
    "               marker=dict(line=dict(color='#000000', width=2)))\n",
    "\n",
    "py.iplot([trace], filename='styled_pie_chart')"
   ]
  },
  {
   "cell_type": "markdown",
   "metadata": {},
   "source": [
    "# Crash type interactive viz"
   ]
  },
  {
   "cell_type": "code",
   "execution_count": 8,
   "metadata": {},
   "outputs": [
    {
     "name": "stderr",
     "output_type": "stream",
     "text": [
      " * Running on http://127.0.0.1:8050/ (Press CTRL+C to quit)\n",
      "127.0.0.1 - - [12/Dec/2018 22:45:20] \"\u001b[37mGET / HTTP/1.1\u001b[0m\" 200 -\n",
      "127.0.0.1 - - [12/Dec/2018 22:45:21] \"\u001b[37mGET /_dash-layout HTTP/1.1\u001b[0m\" 200 -\n",
      "127.0.0.1 - - [12/Dec/2018 22:45:21] \"\u001b[37mGET /_dash-dependencies HTTP/1.1\u001b[0m\" 200 -\n",
      "127.0.0.1 - - [12/Dec/2018 22:45:22] \"\u001b[37mPOST /_dash-update-component HTTP/1.1\u001b[0m\" 200 -\n",
      "127.0.0.1 - - [12/Dec/2018 22:45:25] \"\u001b[37mPOST /_dash-update-component HTTP/1.1\u001b[0m\" 200 -\n"
     ]
    }
   ],
   "source": [
    "import dash\n",
    "import dash_core_components as dcc\n",
    "import dash_html_components as html\n",
    "import pandas as pd\n",
    "import plotly.graph_objs as go\n",
    "\n",
    "external_stylesheets = ['https://codepen.io/chriddyp/pen/bWLwgP.css']\n",
    "\n",
    "app = dash.Dash(__name__, external_stylesheets=external_stylesheets)\n",
    "\n",
    "available_indicators = ['Crash Month', 'Day of Week', 'Hour of Day', 'Illumination', 'Weather', 'Road Condition']\n",
    "\n",
    "\n",
    "app.layout = html.Div([\n",
    "    html.Div([\n",
    "\n",
    "        html.Div([\n",
    "            dcc.Dropdown(\n",
    "                id='crash_type_by',\n",
    "                options=[{'label': i, 'value': i} for i in available_indicators],\n",
    "                value='Crash Month'\n",
    "            )\n",
    "        ],\n",
    "        style={'width': '15%', 'display': 'inline-block'})\n",
    "    ]),\n",
    "\n",
    "    dcc.Graph(id='indicator-graphic')\n",
    "])\n",
    "\n",
    "\n",
    "@app.callback(\n",
    "    dash.dependencies.Output('indicator-graphic', 'figure'),\n",
    "    [dash.dependencies.Input('crash_type_by', 'value')])\n",
    "def update_graph(x_name_1):\n",
    "    x_name = '_'.join(x_name_1.split(' '))\n",
    "    plot_df = df.groupby([x_name,'Collision_Type']).Crash_Record_Number.count().unstack()\n",
    "    plot_df['Sum'] = plot_df.sum(axis=1)\n",
    "    \n",
    "    for i in range(len(plot_df.columns.tolist())-1):\n",
    "        plot_df.iloc[:,i] = plot_df.iloc[:,i]/plot_df.Sum*100\n",
    "    plot_df = plot_df.iloc[:,:-1]\n",
    "\n",
    "    index_list = plot_df.index.tolist()\n",
    "\n",
    "    y_name_list = plot_df.columns.tolist()\n",
    "\n",
    "    data = []\n",
    "    for y_name in y_name_list:\n",
    "        data.append(go.Bar(\n",
    "            x=index_list,\n",
    "            y=plot_df[y_name].values.tolist(),\n",
    "            name=y_name\n",
    "        ))\n",
    "\n",
    "    layout = go.Layout(\n",
    "        barmode='stack',\n",
    "        title=f'Crash Type Percentage by {x_name_1}'\n",
    "    )\n",
    "\n",
    "    return {\n",
    "        'data': data,\n",
    "        'layout': layout\n",
    "    }\n",
    "if __name__ == '__main__':\n",
    "    app.run_server(debug=False,port=8050)"
   ]
  },
  {
   "cell_type": "code",
   "execution_count": null,
   "metadata": {},
   "outputs": [],
   "source": []
  },
  {
   "cell_type": "code",
   "execution_count": null,
   "metadata": {},
   "outputs": [],
   "source": []
  },
  {
   "cell_type": "markdown",
   "metadata": {},
   "source": [
    "# crash type on map"
   ]
  },
  {
   "cell_type": "code",
   "execution_count": 13,
   "metadata": {},
   "outputs": [
    {
     "name": "stderr",
     "output_type": "stream",
     "text": [
      "C:\\Users\\Qingyu\\Anaconda3\\envs\\project2env\\lib\\site-packages\\ipykernel_launcher.py:18: SettingWithCopyWarning:\n",
      "\n",
      "\n",
      "A value is trying to be set on a copy of a slice from a DataFrame.\n",
      "Try using .loc[row_indexer,col_indexer] = value instead\n",
      "\n",
      "See the caveats in the documentation: http://pandas.pydata.org/pandas-docs/stable/indexing.html#indexing-view-versus-copy\n",
      "\n",
      "C:\\Users\\Qingyu\\Anaconda3\\envs\\project2env\\lib\\site-packages\\ipykernel_launcher.py:19: SettingWithCopyWarning:\n",
      "\n",
      "\n",
      "A value is trying to be set on a copy of a slice from a DataFrame.\n",
      "Try using .loc[row_indexer,col_indexer] = value instead\n",
      "\n",
      "See the caveats in the documentation: http://pandas.pydata.org/pandas-docs/stable/indexing.html#indexing-view-versus-copy\n",
      "\n",
      "C:\\Users\\Qingyu\\Anaconda3\\envs\\project2env\\lib\\site-packages\\ipykernel_launcher.py:20: SettingWithCopyWarning:\n",
      "\n",
      "\n",
      "A value is trying to be set on a copy of a slice from a DataFrame.\n",
      "Try using .loc[row_indexer,col_indexer] = value instead\n",
      "\n",
      "See the caveats in the documentation: http://pandas.pydata.org/pandas-docs/stable/indexing.html#indexing-view-versus-copy\n",
      "\n",
      " * Running on http://127.0.0.1:8050/ (Press CTRL+C to quit)\n",
      "127.0.0.1 - - [12/Dec/2018 22:49:11] \"\u001b[37mGET / HTTP/1.1\u001b[0m\" 200 -\n",
      "127.0.0.1 - - [12/Dec/2018 22:49:11] \"\u001b[37mGET /_dash-layout HTTP/1.1\u001b[0m\" 200 -\n",
      "127.0.0.1 - - [12/Dec/2018 22:49:11] \"\u001b[37mGET /_dash-dependencies HTTP/1.1\u001b[0m\" 200 -\n",
      "127.0.0.1 - - [12/Dec/2018 22:49:12] \"\u001b[37mPOST /_dash-update-component HTTP/1.1\u001b[0m\" 200 -\n"
     ]
    }
   ],
   "source": [
    "import dash\n",
    "import dash_core_components as dcc\n",
    "import dash_html_components as html\n",
    "import pandas as pd\n",
    "import plotly.graph_objs as go\n",
    "\n",
    "mapbox_access_token = 'pk.eyJ1IjoidWlyc2VpdGEiLCJhIjoiY2pwaGx4eXQ0MDAwdTNxcXdwMGo0cGpxdiJ9.ux2pBATNhOgnghsvMFbQvw'\n",
    "column_list = ['Crash_Record_Number',\n",
    "               'County_Name',\n",
    "               'Crash_Year',\n",
    "               'Weather',\n",
    "               'Road_Condition',\n",
    "               'Collision_Type',\n",
    "               'Latitude_(Decimal)',\n",
    "               'Longitude_(Decimal)',\n",
    "               'Postal']\n",
    "df1 = df[column_list]\n",
    "df1['Collision_Type'] = df1['Collision_Type'].astype('category')\n",
    "df1['Collision_Type_color'] = df1['Collision_Type'].cat.codes\n",
    "df1['Collision_Type_color'] = df1['Collision_Type_color']/(len(df1['Collision_Type_color'].unique().tolist())-1)\n",
    "\n",
    "# .sample(n=40000, replace=False,random_state=1)\n",
    "external_stylesheets = ['https://codepen.io/chriddyp/pen/bWLwgP.css']\n",
    "\n",
    "app = dash.Dash(__name__, external_stylesheets=external_stylesheets)\n",
    "\n",
    "crash_type_list = df1.Collision_Type.unique().tolist()\n",
    "year_list = df1.Crash_Year.sort_values().unique().tolist()\n",
    "\n",
    "\n",
    "app.layout = html.Div([\n",
    "    html.Div([\n",
    "        html.Div([\n",
    "            dcc.Dropdown(\n",
    "                id='crash_type',\n",
    "                options=[{'label': i, 'value': i} for i in crash_type_list],\n",
    "                value=crash_type_list,\n",
    "                multi=True\n",
    "            ),\n",
    "            dcc.Dropdown(\n",
    "                id='year',\n",
    "                options=[{'label': i, 'value': i} for i in year_list],\n",
    "                value=year_list,\n",
    "                multi=True\n",
    "            )\n",
    "        ],\n",
    "        style={'width': '20%', 'display': 'inline-block'})\n",
    "    ]),\n",
    "\n",
    "    dcc.Graph(id='indicator-graphic')\n",
    "])\n",
    "\n",
    "@app.callback(\n",
    "    dash.dependencies.Output('indicator-graphic', 'figure'),\n",
    "    [dash.dependencies.Input('crash_type', 'value'),\n",
    "    dash.dependencies.Input('year', 'value')])\n",
    "def update_graph(crash_type, year):\n",
    "    scl = [ [0,\"rgb(229, 0, 14)\"],[1/9,\"rgb(231, 63, 2)\"],[2/9,\"rgb(233, 142, 5)\"],\\\n",
    "    [3/9,\"rgb(235, 220, 8)\"],[4/9,\"rgb(177, 237, 11)\"],[5/9,\"rgb(104, 239, 14)\"],\\\n",
    "      [6/9, \"rgb(0, 0, 0)\"], [7/9, \"rgb(32, 241, 17)\"], [8/9, \"rgb(23, 245, 156)\"], [1, \"rgb(27, 248, 232)\"]]\n",
    "    \n",
    "    plot_df = df1\n",
    "    plot_df = plot_df[plot_df['Collision_Type'].isin(crash_type)]\n",
    "    plot_df = plot_df[plot_df['Crash_Year'].isin(year)]\n",
    "    \n",
    "    if plot_df.shape[0] > 40000:\n",
    "        plot_df = plot_df.sample(n=40000, replace=False,random_state=1)\n",
    "        \n",
    "    data = [\n",
    "        go.Scattermapbox(\n",
    "            lon = plot_df['Longitude_(Decimal)'],\n",
    "            lat = plot_df['Latitude_(Decimal)'],\n",
    "            text = plot_df['Collision_Type'],\n",
    "            mode='markers',\n",
    "            marker=dict(\n",
    "                size=5,\n",
    "                opacity = 0.7,\n",
    "                autocolorscale = False,\n",
    "                colorscale = scl,\n",
    "                color = plot_df['Collision_Type_color'],\n",
    "            ),\n",
    "        )\n",
    "    ]\n",
    "    \n",
    "    layout = go.Layout(\n",
    "        autosize=True,\n",
    "        hovermode='closest',\n",
    "        mapbox=dict(\n",
    "            accesstoken=mapbox_access_token,\n",
    "            bearing=0,\n",
    "            center=dict(\n",
    "                lat=41,\n",
    "                lon=-77\n",
    "            ),\n",
    "            \n",
    "            pitch=0,\n",
    "            zoom=6\n",
    "        ),\n",
    "    )\n",
    "\n",
    "    return go.Figure(data=data, layout=layout)\n",
    "if __name__ == '__main__':\n",
    "    app.run_server(debug=False,port=8050)"
   ]
  },
  {
   "cell_type": "code",
   "execution_count": null,
   "metadata": {},
   "outputs": [],
   "source": []
  },
  {
   "cell_type": "code",
   "execution_count": null,
   "metadata": {},
   "outputs": [],
   "source": []
  },
  {
   "cell_type": "code",
   "execution_count": null,
   "metadata": {},
   "outputs": [],
   "source": []
  }
 ],
 "metadata": {
  "kernelspec": {
   "display_name": "Python 3",
   "language": "python",
   "name": "python3"
  },
  "language_info": {
   "codemirror_mode": {
    "name": "ipython",
    "version": 3
   },
   "file_extension": ".py",
   "mimetype": "text/x-python",
   "name": "python",
   "nbconvert_exporter": "python",
   "pygments_lexer": "ipython3",
   "version": "3.6.7"
  }
 },
 "nbformat": 4,
 "nbformat_minor": 2
}
