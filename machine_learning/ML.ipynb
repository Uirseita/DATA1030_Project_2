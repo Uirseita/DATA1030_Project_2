{
 "cells": [
  {
   "cell_type": "code",
   "execution_count": 1,
   "metadata": {},
   "outputs": [],
   "source": [
    "import numpy as np\n",
    "import pandas as pd\n",
    "import matplotlib.pyplot as plt\n",
    "import seaborn as sns\n",
    "import random\n",
    "from datetime import datetime\n",
    "from datetime import timedelta\n",
    "# sns.set(style=\"darkgrid\")\n",
    "import requests\n",
    "import pprint\n",
    "import re\n",
    "pd.options.display.max_columns = 999\n",
    "%matplotlib inline"
   ]
  },
  {
   "cell_type": "code",
   "execution_count": 2,
   "metadata": {},
   "outputs": [],
   "source": [
    "df = pd.read_csv('../Car_Crash/Data/data_cleaned.csv')"
   ]
  },
  {
   "cell_type": "code",
   "execution_count": 3,
   "metadata": {},
   "outputs": [],
   "source": [
    "feature_list = [\n",
    " 'Interstate',\n",
    " 'State_Road',\n",
    " 'Local_Road_Only',\n",
    " 'Turnpike',\n",
    " 'Non_Intersection',\n",
    " 'Intersection',\n",
    " 'Signalized_Intersection',\n",
    " 'Stop_Controlled_Intersection',\n",
    " 'Unsignalized_Intersection',\n",
    " 'Alcohol_Related',\n",
    " 'Drinking_Driver',\n",
    " 'Underage_Drinking_Driver',\n",
    " 'Unlicensed',\n",
    " 'Distracted',\n",
    " 'Cell_Phone',\n",
    " 'No_Clearance',\n",
    " 'Running_Red_Light',\n",
    " 'Running_Stop_Sign',\n",
    " 'Tailgating',\n",
    " 'Cross_Median',\n",
    " 'Curved_Road',\n",
    " 'Curve_Driver_Error',\n",
    " 'Limit_65_MPH',\n",
    " 'Speeding',\n",
    " 'Speeding_Related',\n",
    " 'Aggressive_Driving',\n",
    " 'Fatigue_/_Asleep',\n",
    " 'Driver_16_Years_Old',\n",
    " 'Driver_17_Years_Old',\n",
    " 'Driver_18_Years_Old',\n",
    " 'Driver_19_Years_Old',\n",
    " 'Driver_20_Years_Old',\n",
    " 'Driver_50_-_64_Years_Old',\n",
    " 'Driver_65_-_74_Years_Old',\n",
    " 'Driver_75_Plus',\n",
    " 'NHTSA_Aggressive_Driving',\n",
    " 'Weekend',\n",
    " 'population_zs',\n",
    " 'median_age_zs',\n",
    " 'college_zs',\n",
    " 'unemployment_rate_zs',\n",
    " 'household_mean_income_zs',\n",
    " 'Crash_Month_1',\n",
    " 'Crash_Month_2',\n",
    " 'Crash_Month_3',\n",
    " 'Crash_Month_4',\n",
    " 'Crash_Month_5',\n",
    " 'Crash_Month_6',\n",
    " 'Crash_Month_7',\n",
    " 'Crash_Month_8',\n",
    " 'Crash_Month_9',\n",
    " 'Crash_Month_10',\n",
    " 'Crash_Month_11',\n",
    " 'Crash_Month_12',\n",
    " 'Hour_of_Day_0.0',\n",
    " 'Hour_of_Day_1.0',\n",
    " 'Hour_of_Day_2.0',\n",
    " 'Hour_of_Day_3.0',\n",
    " 'Hour_of_Day_4.0',\n",
    " 'Hour_of_Day_5.0',\n",
    " 'Hour_of_Day_6.0',\n",
    " 'Hour_of_Day_7.0',\n",
    " 'Hour_of_Day_8.0',\n",
    " 'Hour_of_Day_9.0',\n",
    " 'Hour_of_Day_10.0',\n",
    " 'Hour_of_Day_11.0',\n",
    " 'Hour_of_Day_12.0',\n",
    " 'Hour_of_Day_13.0',\n",
    " 'Hour_of_Day_14.0',\n",
    " 'Hour_of_Day_15.0',\n",
    " 'Hour_of_Day_16.0',\n",
    " 'Hour_of_Day_17.0',\n",
    " 'Hour_of_Day_18.0',\n",
    " 'Hour_of_Day_19.0',\n",
    " 'Hour_of_Day_20.0',\n",
    " 'Hour_of_Day_21.0',\n",
    " 'Hour_of_Day_22.0',\n",
    " 'Hour_of_Day_23.0',\n",
    " 'Illumination_Dark no street lights',\n",
    " 'Illumination_Dark street lights',\n",
    " 'Illumination_Dark unknown roadway lighting',\n",
    " 'Illumination_Dawn',\n",
    " 'Illumination_Daylight',\n",
    " 'Illumination_Dusk',\n",
    " 'Illumination_Other',\n",
    " 'Weather_Fog',\n",
    " 'Weather_No adverse conditions',\n",
    " 'Weather_Other',\n",
    " 'Weather_Rain',\n",
    " 'Weather_Rain and fog',\n",
    " 'Weather_Sleet and fog',\n",
    " 'Weather_Sleet(hail)',\n",
    " 'Weather_Snow',\n",
    " 'Road_Condition_Dry',\n",
    " 'Road_Condition_Ice',\n",
    " 'Road_Condition_Ice Patches',\n",
    " 'Road_Condition_Other',\n",
    " 'Road_Condition_Sand/mud/dirt/oil/or gravel',\n",
    " 'Road_Condition_Slush',\n",
    " 'Road_Condition_Snow covered',\n",
    " 'Road_Condition_Water - standing or moving',\n",
    " 'Road_Condition_Wet',\n",
    " 'Urban_/_Rural_Rural',\n",
    " 'Urban_/_Rural_Urban',\n",
    " 'Urban_/_Rural_Urbanized']"
   ]
  },
  {
   "cell_type": "code",
   "execution_count": 4,
   "metadata": {},
   "outputs": [],
   "source": [
    "feature_list_boolean = [\n",
    " 'Interstate',\n",
    " 'State_Road',\n",
    " 'Local_Road_Only',\n",
    " 'Turnpike',\n",
    " 'Non_Intersection',\n",
    " 'Intersection',\n",
    " 'Signalized_Intersection',\n",
    " 'Stop_Controlled_Intersection',\n",
    " 'Unsignalized_Intersection',\n",
    " 'Alcohol_Related',\n",
    " 'Drinking_Driver',\n",
    " 'Underage_Drinking_Driver',\n",
    " 'Unlicensed',\n",
    " 'Distracted',\n",
    " 'Cell_Phone',\n",
    " 'No_Clearance',\n",
    " 'Running_Red_Light',\n",
    " 'Running_Stop_Sign',\n",
    " 'Tailgating',\n",
    " 'Cross_Median',\n",
    " 'Curved_Road',\n",
    " 'Curve_Driver_Error',\n",
    " 'Limit_65_MPH',\n",
    " 'Speeding',\n",
    " 'Speeding_Related',\n",
    " 'Aggressive_Driving',\n",
    " 'Fatigue_/_Asleep',\n",
    " 'Driver_16_Years_Old',\n",
    " 'Driver_17_Years_Old',\n",
    " 'Driver_18_Years_Old',\n",
    " 'Driver_19_Years_Old',\n",
    " 'Driver_20_Years_Old',\n",
    " 'Driver_50_-_64_Years_Old',\n",
    " 'Driver_65_-_74_Years_Old',\n",
    " 'Driver_75_Plus',\n",
    " 'NHTSA_Aggressive_Driving',\n",
    " 'Weekend',\n",
    " 'Crash_Month_1',\n",
    " 'Crash_Month_2',\n",
    " 'Crash_Month_3',\n",
    " 'Crash_Month_4',\n",
    " 'Crash_Month_5',\n",
    " 'Crash_Month_6',\n",
    " 'Crash_Month_7',\n",
    " 'Crash_Month_8',\n",
    " 'Crash_Month_9',\n",
    " 'Crash_Month_10',\n",
    " 'Crash_Month_11',\n",
    " 'Crash_Month_12',\n",
    " 'Hour_of_Day_0.0',\n",
    " 'Hour_of_Day_1.0',\n",
    " 'Hour_of_Day_2.0',\n",
    " 'Hour_of_Day_3.0',\n",
    " 'Hour_of_Day_4.0',\n",
    " 'Hour_of_Day_5.0',\n",
    " 'Hour_of_Day_6.0',\n",
    " 'Hour_of_Day_7.0',\n",
    " 'Hour_of_Day_8.0',\n",
    " 'Hour_of_Day_9.0',\n",
    " 'Hour_of_Day_10.0',\n",
    " 'Hour_of_Day_11.0',\n",
    " 'Hour_of_Day_12.0',\n",
    " 'Hour_of_Day_13.0',\n",
    " 'Hour_of_Day_14.0',\n",
    " 'Hour_of_Day_15.0',\n",
    " 'Hour_of_Day_16.0',\n",
    " 'Hour_of_Day_17.0',\n",
    " 'Hour_of_Day_18.0',\n",
    " 'Hour_of_Day_19.0',\n",
    " 'Hour_of_Day_20.0',\n",
    " 'Hour_of_Day_21.0',\n",
    " 'Hour_of_Day_22.0',\n",
    " 'Hour_of_Day_23.0',\n",
    " 'Illumination_Dark no street lights',\n",
    " 'Illumination_Dark street lights',\n",
    " 'Illumination_Dark unknown roadway lighting',\n",
    " 'Illumination_Dawn',\n",
    " 'Illumination_Daylight',\n",
    " 'Illumination_Dusk',\n",
    " 'Illumination_Other',\n",
    " 'Weather_Fog',\n",
    " 'Weather_No adverse conditions',\n",
    " 'Weather_Other',\n",
    " 'Weather_Rain',\n",
    " 'Weather_Rain and fog',\n",
    " 'Weather_Sleet and fog',\n",
    " 'Weather_Sleet(hail)',\n",
    " 'Weather_Snow',\n",
    " 'Road_Condition_Dry',\n",
    " 'Road_Condition_Ice',\n",
    " 'Road_Condition_Ice Patches',\n",
    " 'Road_Condition_Other',\n",
    " 'Road_Condition_Sand/mud/dirt/oil/or gravel',\n",
    " 'Road_Condition_Slush',\n",
    " 'Road_Condition_Snow covered',\n",
    " 'Road_Condition_Water - standing or moving',\n",
    " 'Road_Condition_Wet',\n",
    " 'Urban_/_Rural_Rural',\n",
    " 'Urban_/_Rural_Urban',\n",
    " 'Urban_/_Rural_Urbanized']"
   ]
  },
  {
   "cell_type": "markdown",
   "metadata": {},
   "source": [
    "# machine learning"
   ]
  },
  {
   "cell_type": "code",
   "execution_count": 98,
   "metadata": {},
   "outputs": [
    {
     "data": {
      "text/html": [
       "<div>\n",
       "<style scoped>\n",
       "    .dataframe tbody tr th:only-of-type {\n",
       "        vertical-align: middle;\n",
       "    }\n",
       "\n",
       "    .dataframe tbody tr th {\n",
       "        vertical-align: top;\n",
       "    }\n",
       "\n",
       "    .dataframe thead th {\n",
       "        text-align: right;\n",
       "    }\n",
       "</style>\n",
       "<table border=\"1\" class=\"dataframe\">\n",
       "  <thead>\n",
       "    <tr style=\"text-align: right;\">\n",
       "      <th></th>\n",
       "      <th>Crash_Record_Number</th>\n",
       "      <th>Crash_Year</th>\n",
       "      <th>Day_of_Week</th>\n",
       "      <th>Collision_Type</th>\n",
       "      <th>Interstate</th>\n",
       "      <th>State_Road</th>\n",
       "      <th>Local_Road_Only</th>\n",
       "      <th>Turnpike</th>\n",
       "      <th>Non_Intersection</th>\n",
       "      <th>Intersection</th>\n",
       "      <th>Signalized_Intersection</th>\n",
       "      <th>Stop_Controlled_Intersection</th>\n",
       "      <th>Unsignalized_Intersection</th>\n",
       "      <th>Alcohol_Related</th>\n",
       "      <th>Drinking_Driver</th>\n",
       "      <th>Underage_Drinking_Driver</th>\n",
       "      <th>Unlicensed</th>\n",
       "      <th>Distracted</th>\n",
       "      <th>Cell_Phone</th>\n",
       "      <th>No_Clearance</th>\n",
       "      <th>Running_Red_Light</th>\n",
       "      <th>Running_Stop_Sign</th>\n",
       "      <th>Tailgating</th>\n",
       "      <th>Cross_Median</th>\n",
       "      <th>Curved_Road</th>\n",
       "      <th>Curve_Driver_Error</th>\n",
       "      <th>Limit_65_MPH</th>\n",
       "      <th>Speeding</th>\n",
       "      <th>Speeding_Related</th>\n",
       "      <th>Aggressive_Driving</th>\n",
       "      <th>Fatigue_/_Asleep</th>\n",
       "      <th>Driver_16_Years_Old</th>\n",
       "      <th>Driver_17_Years_Old</th>\n",
       "      <th>Driver_18_Years_Old</th>\n",
       "      <th>Driver_19_Years_Old</th>\n",
       "      <th>Driver_20_Years_Old</th>\n",
       "      <th>Driver_50_-_64_Years_Old</th>\n",
       "      <th>Driver_65_-_74_Years_Old</th>\n",
       "      <th>Driver_75_Plus</th>\n",
       "      <th>NHTSA_Aggressive_Driving</th>\n",
       "      <th>zip_code</th>\n",
       "      <th>population</th>\n",
       "      <th>median_age</th>\n",
       "      <th>college</th>\n",
       "      <th>unemployment_rate</th>\n",
       "      <th>household_mean_income</th>\n",
       "      <th>Weekend</th>\n",
       "      <th>population_zs</th>\n",
       "      <th>median_age_zs</th>\n",
       "      <th>college_zs</th>\n",
       "      <th>unemployment_rate_zs</th>\n",
       "      <th>household_mean_income_zs</th>\n",
       "      <th>Crash_Month_1</th>\n",
       "      <th>Crash_Month_2</th>\n",
       "      <th>Crash_Month_3</th>\n",
       "      <th>Crash_Month_4</th>\n",
       "      <th>Crash_Month_5</th>\n",
       "      <th>Crash_Month_6</th>\n",
       "      <th>Crash_Month_7</th>\n",
       "      <th>Crash_Month_8</th>\n",
       "      <th>Crash_Month_9</th>\n",
       "      <th>Crash_Month_10</th>\n",
       "      <th>Crash_Month_11</th>\n",
       "      <th>Crash_Month_12</th>\n",
       "      <th>Hour_of_Day_0.0</th>\n",
       "      <th>Hour_of_Day_1.0</th>\n",
       "      <th>Hour_of_Day_2.0</th>\n",
       "      <th>Hour_of_Day_3.0</th>\n",
       "      <th>Hour_of_Day_4.0</th>\n",
       "      <th>Hour_of_Day_5.0</th>\n",
       "      <th>Hour_of_Day_6.0</th>\n",
       "      <th>Hour_of_Day_7.0</th>\n",
       "      <th>Hour_of_Day_8.0</th>\n",
       "      <th>Hour_of_Day_9.0</th>\n",
       "      <th>Hour_of_Day_10.0</th>\n",
       "      <th>Hour_of_Day_11.0</th>\n",
       "      <th>Hour_of_Day_12.0</th>\n",
       "      <th>Hour_of_Day_13.0</th>\n",
       "      <th>Hour_of_Day_14.0</th>\n",
       "      <th>Hour_of_Day_15.0</th>\n",
       "      <th>Hour_of_Day_16.0</th>\n",
       "      <th>Hour_of_Day_17.0</th>\n",
       "      <th>Hour_of_Day_18.0</th>\n",
       "      <th>Hour_of_Day_19.0</th>\n",
       "      <th>Hour_of_Day_20.0</th>\n",
       "      <th>Hour_of_Day_21.0</th>\n",
       "      <th>Hour_of_Day_22.0</th>\n",
       "      <th>Hour_of_Day_23.0</th>\n",
       "      <th>Illumination_Dark no street lights</th>\n",
       "      <th>Illumination_Dark street lights</th>\n",
       "      <th>Illumination_Dark unknown roadway lighting</th>\n",
       "      <th>Illumination_Dawn</th>\n",
       "      <th>Illumination_Daylight</th>\n",
       "      <th>Illumination_Dusk</th>\n",
       "      <th>Illumination_Other</th>\n",
       "      <th>Weather_Fog</th>\n",
       "      <th>Weather_No adverse conditions</th>\n",
       "      <th>Weather_Other</th>\n",
       "      <th>Weather_Rain</th>\n",
       "      <th>Weather_Rain and fog</th>\n",
       "      <th>Weather_Sleet and fog</th>\n",
       "      <th>Weather_Sleet(hail)</th>\n",
       "      <th>Weather_Snow</th>\n",
       "      <th>Road_Condition_Dry</th>\n",
       "      <th>Road_Condition_Ice</th>\n",
       "      <th>Road_Condition_Ice Patches</th>\n",
       "      <th>Road_Condition_Other</th>\n",
       "      <th>Road_Condition_Sand/mud/dirt/oil/or gravel</th>\n",
       "      <th>Road_Condition_Slush</th>\n",
       "      <th>Road_Condition_Snow covered</th>\n",
       "      <th>Road_Condition_Water - standing or moving</th>\n",
       "      <th>Road_Condition_Wet</th>\n",
       "      <th>Urban_/_Rural_Rural</th>\n",
       "      <th>Urban_/_Rural_Urban</th>\n",
       "      <th>Urban_/_Rural_Urbanized</th>\n",
       "      <th>Collision_Type_num</th>\n",
       "    </tr>\n",
       "  </thead>\n",
       "  <tbody>\n",
       "    <tr>\n",
       "      <th>0</th>\n",
       "      <td>2007000008</td>\n",
       "      <td>2007</td>\n",
       "      <td>2.0</td>\n",
       "      <td>Sideswipe (same dir.)</td>\n",
       "      <td>0.0</td>\n",
       "      <td>1.0</td>\n",
       "      <td>0.0</td>\n",
       "      <td>0.0</td>\n",
       "      <td>1.0</td>\n",
       "      <td>0.0</td>\n",
       "      <td>0.0</td>\n",
       "      <td>0.0</td>\n",
       "      <td>0.0</td>\n",
       "      <td>0.0</td>\n",
       "      <td>0.0</td>\n",
       "      <td>0.0</td>\n",
       "      <td>0.0</td>\n",
       "      <td>0.0</td>\n",
       "      <td>0.0</td>\n",
       "      <td>0.0</td>\n",
       "      <td>0.0</td>\n",
       "      <td>0.0</td>\n",
       "      <td>0.0</td>\n",
       "      <td>0.0</td>\n",
       "      <td>0.0</td>\n",
       "      <td>0.0</td>\n",
       "      <td>0.0</td>\n",
       "      <td>0.0</td>\n",
       "      <td>0.0</td>\n",
       "      <td>0.0</td>\n",
       "      <td>0.0</td>\n",
       "      <td>0.0</td>\n",
       "      <td>0.0</td>\n",
       "      <td>0.0</td>\n",
       "      <td>0.0</td>\n",
       "      <td>0.0</td>\n",
       "      <td>0.0</td>\n",
       "      <td>0.0</td>\n",
       "      <td>0.0</td>\n",
       "      <td>0.0</td>\n",
       "      <td>16159</td>\n",
       "      <td>4756</td>\n",
       "      <td>46.3</td>\n",
       "      <td>20.6</td>\n",
       "      <td>4.7</td>\n",
       "      <td>60225.0</td>\n",
       "      <td>0</td>\n",
       "      <td>-1.102457</td>\n",
       "      <td>0.929204</td>\n",
       "      <td>-0.553533</td>\n",
       "      <td>-0.647188</td>\n",
       "      <td>-0.543236</td>\n",
       "      <td>1</td>\n",
       "      <td>0</td>\n",
       "      <td>0</td>\n",
       "      <td>0</td>\n",
       "      <td>0</td>\n",
       "      <td>0</td>\n",
       "      <td>0</td>\n",
       "      <td>0</td>\n",
       "      <td>0</td>\n",
       "      <td>0</td>\n",
       "      <td>0</td>\n",
       "      <td>0</td>\n",
       "      <td>0</td>\n",
       "      <td>1</td>\n",
       "      <td>0</td>\n",
       "      <td>0</td>\n",
       "      <td>0</td>\n",
       "      <td>0</td>\n",
       "      <td>0</td>\n",
       "      <td>0</td>\n",
       "      <td>0</td>\n",
       "      <td>0</td>\n",
       "      <td>0</td>\n",
       "      <td>0</td>\n",
       "      <td>0</td>\n",
       "      <td>0</td>\n",
       "      <td>0</td>\n",
       "      <td>0</td>\n",
       "      <td>0</td>\n",
       "      <td>0</td>\n",
       "      <td>0</td>\n",
       "      <td>0</td>\n",
       "      <td>0</td>\n",
       "      <td>0</td>\n",
       "      <td>0</td>\n",
       "      <td>0</td>\n",
       "      <td>0</td>\n",
       "      <td>1</td>\n",
       "      <td>0</td>\n",
       "      <td>0</td>\n",
       "      <td>0</td>\n",
       "      <td>0</td>\n",
       "      <td>0</td>\n",
       "      <td>0</td>\n",
       "      <td>0</td>\n",
       "      <td>0</td>\n",
       "      <td>1</td>\n",
       "      <td>0</td>\n",
       "      <td>0</td>\n",
       "      <td>0</td>\n",
       "      <td>0</td>\n",
       "      <td>0</td>\n",
       "      <td>0</td>\n",
       "      <td>0</td>\n",
       "      <td>0</td>\n",
       "      <td>0</td>\n",
       "      <td>0</td>\n",
       "      <td>0</td>\n",
       "      <td>0</td>\n",
       "      <td>1</td>\n",
       "      <td>0</td>\n",
       "      <td>1</td>\n",
       "      <td>0</td>\n",
       "      <td>9</td>\n",
       "    </tr>\n",
       "    <tr>\n",
       "      <th>1</th>\n",
       "      <td>2007000009</td>\n",
       "      <td>2007</td>\n",
       "      <td>2.0</td>\n",
       "      <td>Sideswipe (same dir.)</td>\n",
       "      <td>0.0</td>\n",
       "      <td>1.0</td>\n",
       "      <td>0.0</td>\n",
       "      <td>0.0</td>\n",
       "      <td>1.0</td>\n",
       "      <td>0.0</td>\n",
       "      <td>0.0</td>\n",
       "      <td>0.0</td>\n",
       "      <td>0.0</td>\n",
       "      <td>0.0</td>\n",
       "      <td>0.0</td>\n",
       "      <td>0.0</td>\n",
       "      <td>0.0</td>\n",
       "      <td>0.0</td>\n",
       "      <td>0.0</td>\n",
       "      <td>0.0</td>\n",
       "      <td>0.0</td>\n",
       "      <td>0.0</td>\n",
       "      <td>0.0</td>\n",
       "      <td>0.0</td>\n",
       "      <td>0.0</td>\n",
       "      <td>0.0</td>\n",
       "      <td>0.0</td>\n",
       "      <td>0.0</td>\n",
       "      <td>0.0</td>\n",
       "      <td>0.0</td>\n",
       "      <td>0.0</td>\n",
       "      <td>0.0</td>\n",
       "      <td>0.0</td>\n",
       "      <td>0.0</td>\n",
       "      <td>0.0</td>\n",
       "      <td>0.0</td>\n",
       "      <td>0.0</td>\n",
       "      <td>0.0</td>\n",
       "      <td>0.0</td>\n",
       "      <td>0.0</td>\n",
       "      <td>16159</td>\n",
       "      <td>4756</td>\n",
       "      <td>46.3</td>\n",
       "      <td>20.6</td>\n",
       "      <td>4.7</td>\n",
       "      <td>60225.0</td>\n",
       "      <td>0</td>\n",
       "      <td>-1.102457</td>\n",
       "      <td>0.929204</td>\n",
       "      <td>-0.553533</td>\n",
       "      <td>-0.647188</td>\n",
       "      <td>-0.543236</td>\n",
       "      <td>1</td>\n",
       "      <td>0</td>\n",
       "      <td>0</td>\n",
       "      <td>0</td>\n",
       "      <td>0</td>\n",
       "      <td>0</td>\n",
       "      <td>0</td>\n",
       "      <td>0</td>\n",
       "      <td>0</td>\n",
       "      <td>0</td>\n",
       "      <td>0</td>\n",
       "      <td>0</td>\n",
       "      <td>0</td>\n",
       "      <td>1</td>\n",
       "      <td>0</td>\n",
       "      <td>0</td>\n",
       "      <td>0</td>\n",
       "      <td>0</td>\n",
       "      <td>0</td>\n",
       "      <td>0</td>\n",
       "      <td>0</td>\n",
       "      <td>0</td>\n",
       "      <td>0</td>\n",
       "      <td>0</td>\n",
       "      <td>0</td>\n",
       "      <td>0</td>\n",
       "      <td>0</td>\n",
       "      <td>0</td>\n",
       "      <td>0</td>\n",
       "      <td>0</td>\n",
       "      <td>0</td>\n",
       "      <td>0</td>\n",
       "      <td>0</td>\n",
       "      <td>0</td>\n",
       "      <td>0</td>\n",
       "      <td>0</td>\n",
       "      <td>0</td>\n",
       "      <td>1</td>\n",
       "      <td>0</td>\n",
       "      <td>0</td>\n",
       "      <td>0</td>\n",
       "      <td>0</td>\n",
       "      <td>0</td>\n",
       "      <td>0</td>\n",
       "      <td>0</td>\n",
       "      <td>0</td>\n",
       "      <td>1</td>\n",
       "      <td>0</td>\n",
       "      <td>0</td>\n",
       "      <td>0</td>\n",
       "      <td>0</td>\n",
       "      <td>0</td>\n",
       "      <td>0</td>\n",
       "      <td>0</td>\n",
       "      <td>0</td>\n",
       "      <td>0</td>\n",
       "      <td>0</td>\n",
       "      <td>0</td>\n",
       "      <td>0</td>\n",
       "      <td>1</td>\n",
       "      <td>0</td>\n",
       "      <td>1</td>\n",
       "      <td>0</td>\n",
       "      <td>9</td>\n",
       "    </tr>\n",
       "    <tr>\n",
       "      <th>2</th>\n",
       "      <td>2007000930</td>\n",
       "      <td>2007</td>\n",
       "      <td>6.0</td>\n",
       "      <td>Hit fixed object</td>\n",
       "      <td>0.0</td>\n",
       "      <td>0.0</td>\n",
       "      <td>1.0</td>\n",
       "      <td>0.0</td>\n",
       "      <td>1.0</td>\n",
       "      <td>0.0</td>\n",
       "      <td>0.0</td>\n",
       "      <td>0.0</td>\n",
       "      <td>0.0</td>\n",
       "      <td>0.0</td>\n",
       "      <td>0.0</td>\n",
       "      <td>0.0</td>\n",
       "      <td>0.0</td>\n",
       "      <td>0.0</td>\n",
       "      <td>0.0</td>\n",
       "      <td>0.0</td>\n",
       "      <td>0.0</td>\n",
       "      <td>0.0</td>\n",
       "      <td>0.0</td>\n",
       "      <td>0.0</td>\n",
       "      <td>0.0</td>\n",
       "      <td>0.0</td>\n",
       "      <td>0.0</td>\n",
       "      <td>0.0</td>\n",
       "      <td>1.0</td>\n",
       "      <td>1.0</td>\n",
       "      <td>0.0</td>\n",
       "      <td>0.0</td>\n",
       "      <td>0.0</td>\n",
       "      <td>0.0</td>\n",
       "      <td>0.0</td>\n",
       "      <td>0.0</td>\n",
       "      <td>0.0</td>\n",
       "      <td>0.0</td>\n",
       "      <td>0.0</td>\n",
       "      <td>0.0</td>\n",
       "      <td>16159</td>\n",
       "      <td>4756</td>\n",
       "      <td>46.3</td>\n",
       "      <td>20.6</td>\n",
       "      <td>4.7</td>\n",
       "      <td>60225.0</td>\n",
       "      <td>0</td>\n",
       "      <td>-1.102457</td>\n",
       "      <td>0.929204</td>\n",
       "      <td>-0.553533</td>\n",
       "      <td>-0.647188</td>\n",
       "      <td>-0.543236</td>\n",
       "      <td>1</td>\n",
       "      <td>0</td>\n",
       "      <td>0</td>\n",
       "      <td>0</td>\n",
       "      <td>0</td>\n",
       "      <td>0</td>\n",
       "      <td>0</td>\n",
       "      <td>0</td>\n",
       "      <td>0</td>\n",
       "      <td>0</td>\n",
       "      <td>0</td>\n",
       "      <td>0</td>\n",
       "      <td>0</td>\n",
       "      <td>0</td>\n",
       "      <td>0</td>\n",
       "      <td>0</td>\n",
       "      <td>0</td>\n",
       "      <td>0</td>\n",
       "      <td>0</td>\n",
       "      <td>0</td>\n",
       "      <td>0</td>\n",
       "      <td>0</td>\n",
       "      <td>0</td>\n",
       "      <td>0</td>\n",
       "      <td>0</td>\n",
       "      <td>0</td>\n",
       "      <td>0</td>\n",
       "      <td>0</td>\n",
       "      <td>1</td>\n",
       "      <td>0</td>\n",
       "      <td>0</td>\n",
       "      <td>0</td>\n",
       "      <td>0</td>\n",
       "      <td>0</td>\n",
       "      <td>0</td>\n",
       "      <td>0</td>\n",
       "      <td>0</td>\n",
       "      <td>0</td>\n",
       "      <td>0</td>\n",
       "      <td>0</td>\n",
       "      <td>1</td>\n",
       "      <td>0</td>\n",
       "      <td>0</td>\n",
       "      <td>0</td>\n",
       "      <td>0</td>\n",
       "      <td>0</td>\n",
       "      <td>1</td>\n",
       "      <td>0</td>\n",
       "      <td>0</td>\n",
       "      <td>0</td>\n",
       "      <td>0</td>\n",
       "      <td>0</td>\n",
       "      <td>0</td>\n",
       "      <td>0</td>\n",
       "      <td>0</td>\n",
       "      <td>0</td>\n",
       "      <td>0</td>\n",
       "      <td>0</td>\n",
       "      <td>0</td>\n",
       "      <td>1</td>\n",
       "      <td>1</td>\n",
       "      <td>0</td>\n",
       "      <td>0</td>\n",
       "      <td>3</td>\n",
       "    </tr>\n",
       "    <tr>\n",
       "      <th>3</th>\n",
       "      <td>2007001994</td>\n",
       "      <td>2007</td>\n",
       "      <td>2.0</td>\n",
       "      <td>Hit fixed object</td>\n",
       "      <td>1.0</td>\n",
       "      <td>1.0</td>\n",
       "      <td>0.0</td>\n",
       "      <td>0.0</td>\n",
       "      <td>1.0</td>\n",
       "      <td>0.0</td>\n",
       "      <td>0.0</td>\n",
       "      <td>0.0</td>\n",
       "      <td>0.0</td>\n",
       "      <td>0.0</td>\n",
       "      <td>0.0</td>\n",
       "      <td>0.0</td>\n",
       "      <td>0.0</td>\n",
       "      <td>0.0</td>\n",
       "      <td>0.0</td>\n",
       "      <td>0.0</td>\n",
       "      <td>0.0</td>\n",
       "      <td>0.0</td>\n",
       "      <td>0.0</td>\n",
       "      <td>0.0</td>\n",
       "      <td>0.0</td>\n",
       "      <td>0.0</td>\n",
       "      <td>0.0</td>\n",
       "      <td>0.0</td>\n",
       "      <td>0.0</td>\n",
       "      <td>0.0</td>\n",
       "      <td>0.0</td>\n",
       "      <td>0.0</td>\n",
       "      <td>0.0</td>\n",
       "      <td>0.0</td>\n",
       "      <td>0.0</td>\n",
       "      <td>0.0</td>\n",
       "      <td>0.0</td>\n",
       "      <td>0.0</td>\n",
       "      <td>0.0</td>\n",
       "      <td>0.0</td>\n",
       "      <td>16159</td>\n",
       "      <td>4756</td>\n",
       "      <td>46.3</td>\n",
       "      <td>20.6</td>\n",
       "      <td>4.7</td>\n",
       "      <td>60225.0</td>\n",
       "      <td>0</td>\n",
       "      <td>-1.102457</td>\n",
       "      <td>0.929204</td>\n",
       "      <td>-0.553533</td>\n",
       "      <td>-0.647188</td>\n",
       "      <td>-0.543236</td>\n",
       "      <td>1</td>\n",
       "      <td>0</td>\n",
       "      <td>0</td>\n",
       "      <td>0</td>\n",
       "      <td>0</td>\n",
       "      <td>0</td>\n",
       "      <td>0</td>\n",
       "      <td>0</td>\n",
       "      <td>0</td>\n",
       "      <td>0</td>\n",
       "      <td>0</td>\n",
       "      <td>0</td>\n",
       "      <td>0</td>\n",
       "      <td>0</td>\n",
       "      <td>0</td>\n",
       "      <td>1</td>\n",
       "      <td>0</td>\n",
       "      <td>0</td>\n",
       "      <td>0</td>\n",
       "      <td>0</td>\n",
       "      <td>0</td>\n",
       "      <td>0</td>\n",
       "      <td>0</td>\n",
       "      <td>0</td>\n",
       "      <td>0</td>\n",
       "      <td>0</td>\n",
       "      <td>0</td>\n",
       "      <td>0</td>\n",
       "      <td>0</td>\n",
       "      <td>0</td>\n",
       "      <td>0</td>\n",
       "      <td>0</td>\n",
       "      <td>0</td>\n",
       "      <td>0</td>\n",
       "      <td>0</td>\n",
       "      <td>0</td>\n",
       "      <td>1</td>\n",
       "      <td>0</td>\n",
       "      <td>0</td>\n",
       "      <td>0</td>\n",
       "      <td>0</td>\n",
       "      <td>0</td>\n",
       "      <td>0</td>\n",
       "      <td>0</td>\n",
       "      <td>0</td>\n",
       "      <td>0</td>\n",
       "      <td>1</td>\n",
       "      <td>0</td>\n",
       "      <td>0</td>\n",
       "      <td>0</td>\n",
       "      <td>0</td>\n",
       "      <td>0</td>\n",
       "      <td>0</td>\n",
       "      <td>0</td>\n",
       "      <td>0</td>\n",
       "      <td>0</td>\n",
       "      <td>0</td>\n",
       "      <td>0</td>\n",
       "      <td>0</td>\n",
       "      <td>1</td>\n",
       "      <td>1</td>\n",
       "      <td>0</td>\n",
       "      <td>0</td>\n",
       "      <td>3</td>\n",
       "    </tr>\n",
       "    <tr>\n",
       "      <th>4</th>\n",
       "      <td>2007004699</td>\n",
       "      <td>2007</td>\n",
       "      <td>6.0</td>\n",
       "      <td>Hit fixed object</td>\n",
       "      <td>0.0</td>\n",
       "      <td>1.0</td>\n",
       "      <td>0.0</td>\n",
       "      <td>0.0</td>\n",
       "      <td>0.0</td>\n",
       "      <td>1.0</td>\n",
       "      <td>0.0</td>\n",
       "      <td>0.0</td>\n",
       "      <td>1.0</td>\n",
       "      <td>0.0</td>\n",
       "      <td>0.0</td>\n",
       "      <td>0.0</td>\n",
       "      <td>0.0</td>\n",
       "      <td>0.0</td>\n",
       "      <td>0.0</td>\n",
       "      <td>0.0</td>\n",
       "      <td>0.0</td>\n",
       "      <td>0.0</td>\n",
       "      <td>0.0</td>\n",
       "      <td>0.0</td>\n",
       "      <td>0.0</td>\n",
       "      <td>0.0</td>\n",
       "      <td>0.0</td>\n",
       "      <td>0.0</td>\n",
       "      <td>1.0</td>\n",
       "      <td>1.0</td>\n",
       "      <td>0.0</td>\n",
       "      <td>0.0</td>\n",
       "      <td>0.0</td>\n",
       "      <td>0.0</td>\n",
       "      <td>0.0</td>\n",
       "      <td>1.0</td>\n",
       "      <td>0.0</td>\n",
       "      <td>0.0</td>\n",
       "      <td>0.0</td>\n",
       "      <td>0.0</td>\n",
       "      <td>16159</td>\n",
       "      <td>4756</td>\n",
       "      <td>46.3</td>\n",
       "      <td>20.6</td>\n",
       "      <td>4.7</td>\n",
       "      <td>60225.0</td>\n",
       "      <td>0</td>\n",
       "      <td>-1.102457</td>\n",
       "      <td>0.929204</td>\n",
       "      <td>-0.553533</td>\n",
       "      <td>-0.647188</td>\n",
       "      <td>-0.543236</td>\n",
       "      <td>1</td>\n",
       "      <td>0</td>\n",
       "      <td>0</td>\n",
       "      <td>0</td>\n",
       "      <td>0</td>\n",
       "      <td>0</td>\n",
       "      <td>0</td>\n",
       "      <td>0</td>\n",
       "      <td>0</td>\n",
       "      <td>0</td>\n",
       "      <td>0</td>\n",
       "      <td>0</td>\n",
       "      <td>0</td>\n",
       "      <td>0</td>\n",
       "      <td>0</td>\n",
       "      <td>0</td>\n",
       "      <td>0</td>\n",
       "      <td>0</td>\n",
       "      <td>1</td>\n",
       "      <td>0</td>\n",
       "      <td>0</td>\n",
       "      <td>0</td>\n",
       "      <td>0</td>\n",
       "      <td>0</td>\n",
       "      <td>0</td>\n",
       "      <td>0</td>\n",
       "      <td>0</td>\n",
       "      <td>0</td>\n",
       "      <td>0</td>\n",
       "      <td>0</td>\n",
       "      <td>0</td>\n",
       "      <td>0</td>\n",
       "      <td>0</td>\n",
       "      <td>0</td>\n",
       "      <td>0</td>\n",
       "      <td>0</td>\n",
       "      <td>0</td>\n",
       "      <td>0</td>\n",
       "      <td>0</td>\n",
       "      <td>1</td>\n",
       "      <td>0</td>\n",
       "      <td>0</td>\n",
       "      <td>0</td>\n",
       "      <td>0</td>\n",
       "      <td>0</td>\n",
       "      <td>0</td>\n",
       "      <td>0</td>\n",
       "      <td>0</td>\n",
       "      <td>0</td>\n",
       "      <td>0</td>\n",
       "      <td>1</td>\n",
       "      <td>0</td>\n",
       "      <td>0</td>\n",
       "      <td>0</td>\n",
       "      <td>0</td>\n",
       "      <td>0</td>\n",
       "      <td>1</td>\n",
       "      <td>0</td>\n",
       "      <td>0</td>\n",
       "      <td>0</td>\n",
       "      <td>1</td>\n",
       "      <td>0</td>\n",
       "      <td>0</td>\n",
       "      <td>3</td>\n",
       "    </tr>\n",
       "  </tbody>\n",
       "</table>\n",
       "</div>"
      ],
      "text/plain": [
       "   Crash_Record_Number  Crash_Year  Day_of_Week         Collision_Type  \\\n",
       "0           2007000008        2007          2.0  Sideswipe (same dir.)   \n",
       "1           2007000009        2007          2.0  Sideswipe (same dir.)   \n",
       "2           2007000930        2007          6.0       Hit fixed object   \n",
       "3           2007001994        2007          2.0       Hit fixed object   \n",
       "4           2007004699        2007          6.0       Hit fixed object   \n",
       "\n",
       "   Interstate  State_Road  Local_Road_Only  Turnpike  Non_Intersection  \\\n",
       "0         0.0         1.0              0.0       0.0               1.0   \n",
       "1         0.0         1.0              0.0       0.0               1.0   \n",
       "2         0.0         0.0              1.0       0.0               1.0   \n",
       "3         1.0         1.0              0.0       0.0               1.0   \n",
       "4         0.0         1.0              0.0       0.0               0.0   \n",
       "\n",
       "   Intersection  Signalized_Intersection  Stop_Controlled_Intersection  \\\n",
       "0           0.0                      0.0                           0.0   \n",
       "1           0.0                      0.0                           0.0   \n",
       "2           0.0                      0.0                           0.0   \n",
       "3           0.0                      0.0                           0.0   \n",
       "4           1.0                      0.0                           0.0   \n",
       "\n",
       "   Unsignalized_Intersection  Alcohol_Related  Drinking_Driver  \\\n",
       "0                        0.0              0.0              0.0   \n",
       "1                        0.0              0.0              0.0   \n",
       "2                        0.0              0.0              0.0   \n",
       "3                        0.0              0.0              0.0   \n",
       "4                        1.0              0.0              0.0   \n",
       "\n",
       "   Underage_Drinking_Driver  Unlicensed  Distracted  Cell_Phone  No_Clearance  \\\n",
       "0                       0.0         0.0         0.0         0.0           0.0   \n",
       "1                       0.0         0.0         0.0         0.0           0.0   \n",
       "2                       0.0         0.0         0.0         0.0           0.0   \n",
       "3                       0.0         0.0         0.0         0.0           0.0   \n",
       "4                       0.0         0.0         0.0         0.0           0.0   \n",
       "\n",
       "   Running_Red_Light  Running_Stop_Sign  Tailgating  Cross_Median  \\\n",
       "0                0.0                0.0         0.0           0.0   \n",
       "1                0.0                0.0         0.0           0.0   \n",
       "2                0.0                0.0         0.0           0.0   \n",
       "3                0.0                0.0         0.0           0.0   \n",
       "4                0.0                0.0         0.0           0.0   \n",
       "\n",
       "   Curved_Road  Curve_Driver_Error  Limit_65_MPH  Speeding  Speeding_Related  \\\n",
       "0          0.0                 0.0           0.0       0.0               0.0   \n",
       "1          0.0                 0.0           0.0       0.0               0.0   \n",
       "2          0.0                 0.0           0.0       0.0               1.0   \n",
       "3          0.0                 0.0           0.0       0.0               0.0   \n",
       "4          0.0                 0.0           0.0       0.0               1.0   \n",
       "\n",
       "   Aggressive_Driving  Fatigue_/_Asleep  Driver_16_Years_Old  \\\n",
       "0                 0.0               0.0                  0.0   \n",
       "1                 0.0               0.0                  0.0   \n",
       "2                 1.0               0.0                  0.0   \n",
       "3                 0.0               0.0                  0.0   \n",
       "4                 1.0               0.0                  0.0   \n",
       "\n",
       "   Driver_17_Years_Old  Driver_18_Years_Old  Driver_19_Years_Old  \\\n",
       "0                  0.0                  0.0                  0.0   \n",
       "1                  0.0                  0.0                  0.0   \n",
       "2                  0.0                  0.0                  0.0   \n",
       "3                  0.0                  0.0                  0.0   \n",
       "4                  0.0                  0.0                  0.0   \n",
       "\n",
       "   Driver_20_Years_Old  Driver_50_-_64_Years_Old  Driver_65_-_74_Years_Old  \\\n",
       "0                  0.0                       0.0                       0.0   \n",
       "1                  0.0                       0.0                       0.0   \n",
       "2                  0.0                       0.0                       0.0   \n",
       "3                  0.0                       0.0                       0.0   \n",
       "4                  1.0                       0.0                       0.0   \n",
       "\n",
       "   Driver_75_Plus  NHTSA_Aggressive_Driving  zip_code  population  median_age  \\\n",
       "0             0.0                       0.0     16159        4756        46.3   \n",
       "1             0.0                       0.0     16159        4756        46.3   \n",
       "2             0.0                       0.0     16159        4756        46.3   \n",
       "3             0.0                       0.0     16159        4756        46.3   \n",
       "4             0.0                       0.0     16159        4756        46.3   \n",
       "\n",
       "   college  unemployment_rate  household_mean_income  Weekend  population_zs  \\\n",
       "0     20.6                4.7                60225.0        0      -1.102457   \n",
       "1     20.6                4.7                60225.0        0      -1.102457   \n",
       "2     20.6                4.7                60225.0        0      -1.102457   \n",
       "3     20.6                4.7                60225.0        0      -1.102457   \n",
       "4     20.6                4.7                60225.0        0      -1.102457   \n",
       "\n",
       "   median_age_zs  college_zs  unemployment_rate_zs  household_mean_income_zs  \\\n",
       "0       0.929204   -0.553533             -0.647188                 -0.543236   \n",
       "1       0.929204   -0.553533             -0.647188                 -0.543236   \n",
       "2       0.929204   -0.553533             -0.647188                 -0.543236   \n",
       "3       0.929204   -0.553533             -0.647188                 -0.543236   \n",
       "4       0.929204   -0.553533             -0.647188                 -0.543236   \n",
       "\n",
       "   Crash_Month_1  Crash_Month_2  Crash_Month_3  Crash_Month_4  Crash_Month_5  \\\n",
       "0              1              0              0              0              0   \n",
       "1              1              0              0              0              0   \n",
       "2              1              0              0              0              0   \n",
       "3              1              0              0              0              0   \n",
       "4              1              0              0              0              0   \n",
       "\n",
       "   Crash_Month_6  Crash_Month_7  Crash_Month_8  Crash_Month_9  Crash_Month_10  \\\n",
       "0              0              0              0              0               0   \n",
       "1              0              0              0              0               0   \n",
       "2              0              0              0              0               0   \n",
       "3              0              0              0              0               0   \n",
       "4              0              0              0              0               0   \n",
       "\n",
       "   Crash_Month_11  Crash_Month_12  Hour_of_Day_0.0  Hour_of_Day_1.0  \\\n",
       "0               0               0                0                1   \n",
       "1               0               0                0                1   \n",
       "2               0               0                0                0   \n",
       "3               0               0                0                0   \n",
       "4               0               0                0                0   \n",
       "\n",
       "   Hour_of_Day_2.0  Hour_of_Day_3.0  Hour_of_Day_4.0  Hour_of_Day_5.0  \\\n",
       "0                0                0                0                0   \n",
       "1                0                0                0                0   \n",
       "2                0                0                0                0   \n",
       "3                0                1                0                0   \n",
       "4                0                0                0                0   \n",
       "\n",
       "   Hour_of_Day_6.0  Hour_of_Day_7.0  Hour_of_Day_8.0  Hour_of_Day_9.0  \\\n",
       "0                0                0                0                0   \n",
       "1                0                0                0                0   \n",
       "2                0                0                0                0   \n",
       "3                0                0                0                0   \n",
       "4                1                0                0                0   \n",
       "\n",
       "   Hour_of_Day_10.0  Hour_of_Day_11.0  Hour_of_Day_12.0  Hour_of_Day_13.0  \\\n",
       "0                 0                 0                 0                 0   \n",
       "1                 0                 0                 0                 0   \n",
       "2                 0                 0                 0                 0   \n",
       "3                 0                 0                 0                 0   \n",
       "4                 0                 0                 0                 0   \n",
       "\n",
       "   Hour_of_Day_14.0  Hour_of_Day_15.0  Hour_of_Day_16.0  Hour_of_Day_17.0  \\\n",
       "0                 0                 0                 0                 0   \n",
       "1                 0                 0                 0                 0   \n",
       "2                 0                 0                 1                 0   \n",
       "3                 0                 0                 0                 0   \n",
       "4                 0                 0                 0                 0   \n",
       "\n",
       "   Hour_of_Day_18.0  Hour_of_Day_19.0  Hour_of_Day_20.0  Hour_of_Day_21.0  \\\n",
       "0                 0                 0                 0                 0   \n",
       "1                 0                 0                 0                 0   \n",
       "2                 0                 0                 0                 0   \n",
       "3                 0                 0                 0                 0   \n",
       "4                 0                 0                 0                 0   \n",
       "\n",
       "   Hour_of_Day_22.0  Hour_of_Day_23.0  Illumination_Dark no street lights  \\\n",
       "0                 0                 0                                   0   \n",
       "1                 0                 0                                   0   \n",
       "2                 0                 0                                   0   \n",
       "3                 0                 0                                   1   \n",
       "4                 0                 0                                   0   \n",
       "\n",
       "   Illumination_Dark street lights  \\\n",
       "0                                1   \n",
       "1                                1   \n",
       "2                                0   \n",
       "3                                0   \n",
       "4                                0   \n",
       "\n",
       "   Illumination_Dark unknown roadway lighting  Illumination_Dawn  \\\n",
       "0                                           0                  0   \n",
       "1                                           0                  0   \n",
       "2                                           0                  0   \n",
       "3                                           0                  0   \n",
       "4                                           0                  1   \n",
       "\n",
       "   Illumination_Daylight  Illumination_Dusk  Illumination_Other  Weather_Fog  \\\n",
       "0                      0                  0                   0            0   \n",
       "1                      0                  0                   0            0   \n",
       "2                      1                  0                   0            0   \n",
       "3                      0                  0                   0            0   \n",
       "4                      0                  0                   0            0   \n",
       "\n",
       "   Weather_No adverse conditions  Weather_Other  Weather_Rain  \\\n",
       "0                              0              0             1   \n",
       "1                              0              0             1   \n",
       "2                              0              0             1   \n",
       "3                              0              0             1   \n",
       "4                              0              0             0   \n",
       "\n",
       "   Weather_Rain and fog  Weather_Sleet and fog  Weather_Sleet(hail)  \\\n",
       "0                     0                      0                    0   \n",
       "1                     0                      0                    0   \n",
       "2                     0                      0                    0   \n",
       "3                     0                      0                    0   \n",
       "4                     0                      0                    0   \n",
       "\n",
       "   Weather_Snow  Road_Condition_Dry  Road_Condition_Ice  \\\n",
       "0             0                   0                   0   \n",
       "1             0                   0                   0   \n",
       "2             0                   0                   0   \n",
       "3             0                   0                   0   \n",
       "4             1                   0                   0   \n",
       "\n",
       "   Road_Condition_Ice Patches  Road_Condition_Other  \\\n",
       "0                           0                     0   \n",
       "1                           0                     0   \n",
       "2                           0                     0   \n",
       "3                           0                     0   \n",
       "4                           0                     0   \n",
       "\n",
       "   Road_Condition_Sand/mud/dirt/oil/or gravel  Road_Condition_Slush  \\\n",
       "0                                           0                     0   \n",
       "1                                           0                     0   \n",
       "2                                           0                     0   \n",
       "3                                           0                     0   \n",
       "4                                           0                     1   \n",
       "\n",
       "   Road_Condition_Snow covered  Road_Condition_Water - standing or moving  \\\n",
       "0                            0                                          0   \n",
       "1                            0                                          0   \n",
       "2                            0                                          0   \n",
       "3                            0                                          0   \n",
       "4                            0                                          0   \n",
       "\n",
       "   Road_Condition_Wet  Urban_/_Rural_Rural  Urban_/_Rural_Urban  \\\n",
       "0                   1                    0                    1   \n",
       "1                   1                    0                    1   \n",
       "2                   1                    1                    0   \n",
       "3                   1                    1                    0   \n",
       "4                   0                    1                    0   \n",
       "\n",
       "   Urban_/_Rural_Urbanized  Collision_Type_num  \n",
       "0                        0                   9  \n",
       "1                        0                   9  \n",
       "2                        0                   3  \n",
       "3                        0                   3  \n",
       "4                        0                   3  "
      ]
     },
     "execution_count": 98,
     "metadata": {},
     "output_type": "execute_result"
    }
   ],
   "source": [
    "df.head()"
   ]
  },
  {
   "cell_type": "code",
   "execution_count": 5,
   "metadata": {},
   "outputs": [],
   "source": [
    "X = df[feature_list].values\n",
    "\n",
    "y = df.Collision_Type_num.values"
   ]
  },
  {
   "cell_type": "markdown",
   "metadata": {},
   "source": [
    "# naive bayes model"
   ]
  },
  {
   "cell_type": "code",
   "execution_count": 6,
   "metadata": {},
   "outputs": [],
   "source": [
    "from sklearn.naive_bayes import BernoulliNB\n",
    "from sklearn.model_selection import train_test_split\n",
    "from sklearn import metrics"
   ]
  },
  {
   "cell_type": "code",
   "execution_count": 113,
   "metadata": {},
   "outputs": [],
   "source": [
    "X = df[feature_list_boolean].values\n",
    "y = df.Collision_Type_num.values"
   ]
  },
  {
   "cell_type": "code",
   "execution_count": 125,
   "metadata": {},
   "outputs": [],
   "source": [
    "X_train, X_test, y_train, y_test = train_test_split(X, y, test_size=0.4, random_state=0)"
   ]
  },
  {
   "cell_type": "code",
   "execution_count": 126,
   "metadata": {},
   "outputs": [
    {
     "data": {
      "text/plain": [
       "BernoulliNB(alpha=1.0, binarize=0.0, class_prior=None, fit_prior=True)"
      ]
     },
     "execution_count": 126,
     "metadata": {},
     "output_type": "execute_result"
    }
   ],
   "source": [
    "clf = BernoulliNB()\n",
    "clf.fit(X_train, y_train)"
   ]
  },
  {
   "cell_type": "code",
   "execution_count": 128,
   "metadata": {},
   "outputs": [],
   "source": [
    "y_pred = clf.predict(X_test)"
   ]
  },
  {
   "cell_type": "code",
   "execution_count": 129,
   "metadata": {},
   "outputs": [
    {
     "name": "stdout",
     "output_type": "stream",
     "text": [
      "0.5664866978198946\n",
      "0.32578269685811484\n",
      "              precision    recall  f1-score   support\n",
      "\n",
      "           0       0.63      0.70      0.66    140906\n",
      "           1       0.00      0.00      0.00       884\n",
      "           2       0.19      0.03      0.06     19574\n",
      "           3       0.66      0.68      0.67    171300\n",
      "           4       0.23      0.35      0.28     17553\n",
      "           5       0.21      0.03      0.06     19520\n",
      "           6       0.37      0.67      0.47     17933\n",
      "           7       0.57      0.57      0.57    117194\n",
      "           8       0.28      0.08      0.12     10640\n",
      "           9       0.16      0.15      0.16     21626\n",
      "\n",
      "   micro avg       0.57      0.57      0.57    537130\n",
      "   macro avg       0.33      0.33      0.30    537130\n",
      "weighted avg       0.55      0.57      0.55    537130\n",
      "\n",
      "[[ 98032      1    739  13394   6234    219   1412  16281    552   4042]\n",
      " [   220      0      2    135    182      2     30    201      1    111]\n",
      " [  7436      0    646   6049    887     54    359   2156   1068    919]\n",
      " [ 12651      0    948 116110   4809   1547  11545  17720    448   5522]\n",
      " [  5646      0     42   1787   6165     29    675   2031     18   1160]\n",
      " [  2171      1     42   9955    759    665   2416   3000     19    492]\n",
      " [   815      0      5   2668    370    156  11952   1552      6    409]\n",
      " [ 21678      1    480  16590   4815    336   2901  66568     34   3791]\n",
      " [  2938      0    352   3772    618     57    267   1143    840    653]\n",
      " [  4010      1     96   5100   1882    157   1007   6022     52   3299]]\n"
     ]
    }
   ],
   "source": [
    "# print(metrics.f1_score(y_test, y_pred,average=None))\n",
    "print(clf.score(X_test, y_test))\n",
    "print(metrics.balanced_accuracy_score(y_test, y_pred))\n",
    "print(metrics.classification_report(y_test, y_pred))\n",
    "print(metrics.confusion_matrix(y_test, y_pred))"
   ]
  },
  {
   "cell_type": "markdown",
   "metadata": {},
   "source": [
    "### cross-validation"
   ]
  },
  {
   "cell_type": "code",
   "execution_count": 140,
   "metadata": {},
   "outputs": [],
   "source": [
    "from sklearn.model_selection import cross_validate\n",
    "from sklearn.model_selection import cross_val_score"
   ]
  },
  {
   "cell_type": "code",
   "execution_count": 135,
   "metadata": {},
   "outputs": [
    {
     "name": "stderr",
     "output_type": "stream",
     "text": [
      "C:\\Users\\Qingyu\\Anaconda3\\envs\\project2env\\lib\\site-packages\\sklearn\\metrics\\classification.py:1143: UndefinedMetricWarning: F-score is ill-defined and being set to 0.0 in labels with no predicted samples.\n",
      "  'precision', 'predicted', average, warn_for)\n"
     ]
    }
   ],
   "source": [
    "scoring = ['balanced_accuracy','f1_weighted']\n",
    "scores = cross_validate(clf, X, y, scoring=scoring, cv=5, return_train_score=False)"
   ]
  },
  {
   "cell_type": "code",
   "execution_count": 136,
   "metadata": {},
   "outputs": [
    {
     "data": {
      "text/plain": [
       "{'fit_time': array([2.91793966, 2.91228628, 2.90239692, 2.96460748, 2.97624779]),\n",
       " 'score_time': array([0.82586813, 0.83380198, 0.83626866, 0.82947421, 0.83676147]),\n",
       " 'test_balanced_accuracy': array([0.31220712, 0.32284163, 0.30773293, 0.33437341, 0.33010337]),\n",
       " 'test_f1_weighted': array([0.54273602, 0.54818091, 0.53321385, 0.56358965, 0.5436464 ])}"
      ]
     },
     "execution_count": 136,
     "metadata": {},
     "output_type": "execute_result"
    }
   ],
   "source": [
    "scores"
   ]
  },
  {
   "cell_type": "code",
   "execution_count": 137,
   "metadata": {},
   "outputs": [
    {
     "data": {
      "text/plain": [
       "0.5462733653700307"
      ]
     },
     "execution_count": 137,
     "metadata": {},
     "output_type": "execute_result"
    }
   ],
   "source": [
    "scores['test_f1_weighted'].mean()"
   ]
  },
  {
   "cell_type": "code",
   "execution_count": 132,
   "metadata": {},
   "outputs": [
    {
     "name": "stdout",
     "output_type": "stream",
     "text": [
      "[0.55245109 0.57373069 0.56725943 0.56719663 0.55019548 0.54103708\n",
      " 0.58801451 0.58773896 0.57658308 0.53286465]\n"
     ]
    }
   ],
   "source": [
    "print(cross_val_score(clf, X, y, cv=10))"
   ]
  },
  {
   "cell_type": "code",
   "execution_count": 139,
   "metadata": {},
   "outputs": [
    {
     "data": {
      "text/plain": [
       "0.5628365648997165"
      ]
     },
     "execution_count": 139,
     "metadata": {},
     "output_type": "execute_result"
    }
   ],
   "source": [
    "cross_val_score(clf, X, y, cv=5).mean()"
   ]
  },
  {
   "cell_type": "code",
   "execution_count": null,
   "metadata": {},
   "outputs": [],
   "source": []
  },
  {
   "cell_type": "markdown",
   "metadata": {},
   "source": [
    "# KNN Classifier"
   ]
  },
  {
   "cell_type": "code",
   "execution_count": 11,
   "metadata": {},
   "outputs": [],
   "source": [
    "from sklearn.neighbors import KNeighborsClassifier\n",
    "from sklearn.model_selection import train_test_split\n",
    "from sklearn import metrics"
   ]
  },
  {
   "cell_type": "code",
   "execution_count": 12,
   "metadata": {},
   "outputs": [],
   "source": [
    "df_sample = df.sample(frac=0.1, replace=True,random_state=0)"
   ]
  },
  {
   "cell_type": "code",
   "execution_count": 13,
   "metadata": {},
   "outputs": [],
   "source": [
    "X = df_sample[feature_list].values\n",
    "y = df_sample.Collision_Type_num.values"
   ]
  },
  {
   "cell_type": "code",
   "execution_count": 14,
   "metadata": {},
   "outputs": [],
   "source": [
    "X_train, X_test, y_train, y_test = train_test_split(X, y, test_size=0.4, random_state=0)"
   ]
  },
  {
   "cell_type": "code",
   "execution_count": 15,
   "metadata": {},
   "outputs": [
    {
     "name": "stdout",
     "output_type": "stream",
     "text": [
      "Time spent: 0:06:00.932975\n"
     ]
    }
   ],
   "source": [
    "times1 = datetime.now()\n",
    "clf = KNeighborsClassifier(n_neighbors=5)\n",
    "clf.fit(X_train, y_train)\n",
    "y_pred = clf.predict(X_test)\n",
    "times2 = datetime.now()\n",
    "print('Time spent: '+ str(times2-times1)) # print the time cost"
   ]
  },
  {
   "cell_type": "code",
   "execution_count": 16,
   "metadata": {},
   "outputs": [
    {
     "name": "stdout",
     "output_type": "stream",
     "text": [
      "0.5490849515014987\n",
      "0.2662168703368101\n",
      "              precision    recall  f1-score   support\n",
      "\n",
      "           0       0.57      0.74      0.64     14037\n",
      "           1       0.02      0.01      0.01        94\n",
      "           2       0.11      0.03      0.05      2061\n",
      "           3       0.60      0.72      0.66     17160\n",
      "           4       0.26      0.19      0.22      1768\n",
      "           5       0.11      0.04      0.06      1873\n",
      "           6       0.41      0.41      0.41      1701\n",
      "           7       0.55      0.45      0.50     11785\n",
      "           8       0.07      0.01      0.01      1058\n",
      "           9       0.16      0.05      0.08      2176\n",
      "\n",
      "   micro avg       0.55      0.55      0.55     53713\n",
      "   macro avg       0.29      0.27      0.26     53713\n",
      "weighted avg       0.50      0.55      0.52     53713\n",
      "\n",
      "[[10440     9   122  1674   285    68    62  1250    20   107]\n",
      " [   28     1     2    27     3     2     2    21     1     7]\n",
      " [  896     1    60   695    56    27    38   245     6    37]\n",
      " [ 1819    13   142 12429   166   286   519  1614    25   147]\n",
      " [  762     8    29   295   341    15    36   218     7    57]\n",
      " [  271     2    12  1147    26    75    91   229     4    16]\n",
      " [  119     0    11   693    12    59   698    98     0    11]\n",
      " [ 2976    13   119  2585   265   123   176  5328    25   175]\n",
      " [  362     4    16   453    27    13    25   130     7    21]\n",
      " [  684     5    24   682   116    23    45   472    11   114]]\n"
     ]
    }
   ],
   "source": [
    "# print(metrics.f1_score(y_test, y_pred,average=None))\n",
    "print(clf.score(X_test, y_test))\n",
    "print(metrics.balanced_accuracy_score(y_test, y_pred))\n",
    "print(metrics.classification_report(y_test, y_pred))\n",
    "print(metrics.confusion_matrix(y_test, y_pred))"
   ]
  },
  {
   "cell_type": "code",
   "execution_count": null,
   "metadata": {},
   "outputs": [],
   "source": []
  },
  {
   "cell_type": "code",
   "execution_count": null,
   "metadata": {},
   "outputs": [],
   "source": []
  },
  {
   "cell_type": "markdown",
   "metadata": {},
   "source": [
    "# SVC"
   ]
  },
  {
   "cell_type": "code",
   "execution_count": 13,
   "metadata": {},
   "outputs": [],
   "source": [
    "from sklearn import svm\n",
    "from sklearn.model_selection import train_test_split\n",
    "from sklearn import metrics"
   ]
  },
  {
   "cell_type": "code",
   "execution_count": 19,
   "metadata": {},
   "outputs": [],
   "source": [
    "df_sample = df[df['Crash_Year'] == 2017]\n",
    "# df_sample = df_sample.sample(frac=0.2, replace=True,random_state=0)"
   ]
  },
  {
   "cell_type": "code",
   "execution_count": 21,
   "metadata": {},
   "outputs": [],
   "source": [
    "X = df_sample[feature_list].values\n",
    "y = df_sample.Collision_Type_num.values"
   ]
  },
  {
   "cell_type": "code",
   "execution_count": 16,
   "metadata": {},
   "outputs": [],
   "source": [
    "X_train, X_test, y_train, y_test = train_test_split(X, y, test_size=0.2, random_state=0)"
   ]
  },
  {
   "cell_type": "code",
   "execution_count": 17,
   "metadata": {},
   "outputs": [
    {
     "name": "stdout",
     "output_type": "stream",
     "text": [
      "Time spent: 0:00:51.933609\n"
     ]
    }
   ],
   "source": [
    "times1 = datetime.now()\n",
    "clf = svm.SVC(kernel='linear', gamma='auto')\n",
    "clf.fit(X_train, y_train)\n",
    "y_pred = clf.predict(X_test)\n",
    "times2 = datetime.now()\n",
    "print('Time spent: '+ str(times2-times1)) # print the time cost"
   ]
  },
  {
   "cell_type": "code",
   "execution_count": null,
   "metadata": {},
   "outputs": [],
   "source": []
  },
  {
   "cell_type": "code",
   "execution_count": 22,
   "metadata": {},
   "outputs": [],
   "source": [
    "y_pred = clf.predict(X)"
   ]
  },
  {
   "cell_type": "code",
   "execution_count": 18,
   "metadata": {},
   "outputs": [
    {
     "name": "stdout",
     "output_type": "stream",
     "text": [
      "0.6295468400731559\n",
      "0.2938003399791967\n",
      "              precision    recall  f1-score   support\n",
      "\n",
      "           0       0.67      0.80      0.73      1383\n",
      "           1       0.00      0.00      0.00        15\n",
      "           2       0.32      0.10      0.16       181\n",
      "           3       0.62      0.79      0.70      1465\n",
      "           4       0.55      0.10      0.17       156\n",
      "           5       0.00      0.00      0.00       152\n",
      "           6       0.61      0.48      0.54       181\n",
      "           7       0.62      0.66      0.64      1075\n",
      "           8       0.00      0.00      0.00        71\n",
      "           9       0.33      0.00      0.01       242\n",
      "\n",
      "   micro avg       0.63      0.63      0.63      4921\n",
      "   macro avg       0.37      0.29      0.29      4921\n",
      "weighted avg       0.57      0.63      0.58      4921\n",
      "\n",
      "[[1111    0   11  130    3    0    7  121    0    0]\n",
      " [   2    0    0    7    1    0    0    5    0    0]\n",
      " [  96    0   19   40    0    0    0   25    1    0]\n",
      " [  92    0   14 1159    3    0   27  163    5    2]\n",
      " [  72    0    0   34   16    0    3   31    0    0]\n",
      " [  20    0    0  105    0    0    6   21    0    0]\n",
      " [   7    0    0   79    0    0   86    9    0    0]\n",
      " [ 157    0    1  202    2    0    7  706    0    0]\n",
      " [  25    0   13   23    0    0    2    8    0    0]\n",
      " [  88    0    2   90    4    0    2   55    0    1]]\n"
     ]
    },
    {
     "name": "stderr",
     "output_type": "stream",
     "text": [
      "C:\\Users\\Qingyu\\Anaconda3\\envs\\project2env\\lib\\site-packages\\sklearn\\metrics\\classification.py:1143: UndefinedMetricWarning: Precision and F-score are ill-defined and being set to 0.0 in labels with no predicted samples.\n",
      "  'precision', 'predicted', average, warn_for)\n",
      "C:\\Users\\Qingyu\\Anaconda3\\envs\\project2env\\lib\\site-packages\\sklearn\\metrics\\classification.py:1143: UndefinedMetricWarning: Precision and F-score are ill-defined and being set to 0.0 in labels with no predicted samples.\n",
      "  'precision', 'predicted', average, warn_for)\n",
      "C:\\Users\\Qingyu\\Anaconda3\\envs\\project2env\\lib\\site-packages\\sklearn\\metrics\\classification.py:1143: UndefinedMetricWarning: Precision and F-score are ill-defined and being set to 0.0 in labels with no predicted samples.\n",
      "  'precision', 'predicted', average, warn_for)\n"
     ]
    }
   ],
   "source": [
    "# print(metrics.f1_score(y_test, y_pred,average=None))\n",
    "print(clf.score(X_test, y_test))\n",
    "print(metrics.balanced_accuracy_score(y_test, y_pred))\n",
    "print(metrics.classification_report(y_test, y_pred))\n",
    "print(metrics.confusion_matrix(y_test, y_pred))"
   ]
  },
  {
   "cell_type": "code",
   "execution_count": null,
   "metadata": {},
   "outputs": [],
   "source": []
  },
  {
   "cell_type": "markdown",
   "metadata": {},
   "source": [
    "### cross-validation"
   ]
  },
  {
   "cell_type": "code",
   "execution_count": 31,
   "metadata": {},
   "outputs": [],
   "source": [
    "from sklearn.model_selection import cross_validate\n",
    "from sklearn.model_selection import cross_val_score"
   ]
  },
  {
   "cell_type": "code",
   "execution_count": 135,
   "metadata": {},
   "outputs": [
    {
     "name": "stderr",
     "output_type": "stream",
     "text": [
      "C:\\Users\\Qingyu\\Anaconda3\\envs\\project2env\\lib\\site-packages\\sklearn\\metrics\\classification.py:1143: UndefinedMetricWarning: F-score is ill-defined and being set to 0.0 in labels with no predicted samples.\n",
      "  'precision', 'predicted', average, warn_for)\n"
     ]
    }
   ],
   "source": [
    "scoring = ['balanced_accuracy','f1_weighted']\n",
    "scores = cross_validate(clf, X, y, scoring=scoring, cv=5, return_train_score=False)"
   ]
  },
  {
   "cell_type": "code",
   "execution_count": 136,
   "metadata": {},
   "outputs": [
    {
     "data": {
      "text/plain": [
       "{'fit_time': array([2.91793966, 2.91228628, 2.90239692, 2.96460748, 2.97624779]),\n",
       " 'score_time': array([0.82586813, 0.83380198, 0.83626866, 0.82947421, 0.83676147]),\n",
       " 'test_balanced_accuracy': array([0.31220712, 0.32284163, 0.30773293, 0.33437341, 0.33010337]),\n",
       " 'test_f1_weighted': array([0.54273602, 0.54818091, 0.53321385, 0.56358965, 0.5436464 ])}"
      ]
     },
     "execution_count": 136,
     "metadata": {},
     "output_type": "execute_result"
    }
   ],
   "source": [
    "scores"
   ]
  },
  {
   "cell_type": "code",
   "execution_count": 137,
   "metadata": {},
   "outputs": [
    {
     "data": {
      "text/plain": [
       "0.5462733653700307"
      ]
     },
     "execution_count": 137,
     "metadata": {},
     "output_type": "execute_result"
    }
   ],
   "source": [
    "scores['test_f1_weighted'].mean()"
   ]
  },
  {
   "cell_type": "code",
   "execution_count": 32,
   "metadata": {},
   "outputs": [
    {
     "name": "stdout",
     "output_type": "stream",
     "text": [
      "[0.64705882 0.63108766 0.63337393 0.6196668  0.6195122  0.63495935\n",
      " 0.64634146 0.63262815 0.63925081 0.62118126]\n"
     ]
    }
   ],
   "source": [
    "print(cross_val_score(clf, X, y, cv=10))"
   ]
  },
  {
   "cell_type": "code",
   "execution_count": 37,
   "metadata": {},
   "outputs": [
    {
     "data": {
      "text/plain": [
       "0.632506044"
      ]
     },
     "execution_count": 37,
     "metadata": {},
     "output_type": "execute_result"
    }
   ],
   "source": [
    "np.array([0.64705882, 0.63108766, 0.63337393, 0.6196668, 0.6195122, 0.63495935,\n",
    " 0.64634146, 0.63262815, 0.63925081, 0.62118126]).mean()"
   ]
  },
  {
   "cell_type": "code",
   "execution_count": null,
   "metadata": {},
   "outputs": [],
   "source": []
  },
  {
   "cell_type": "code",
   "execution_count": 38,
   "metadata": {},
   "outputs": [],
   "source": [
    "df_sample = df[df['Crash_Year'] == 2017]"
   ]
  },
  {
   "cell_type": "code",
   "execution_count": 39,
   "metadata": {},
   "outputs": [],
   "source": [
    "X = df_sample[feature_list].values\n",
    "y = df_sample.Collision_Type_num.values"
   ]
  },
  {
   "cell_type": "code",
   "execution_count": 40,
   "metadata": {},
   "outputs": [],
   "source": [
    "X_train, X_test, y_train, y_test = train_test_split(X, y, test_size=0.2, random_state=0)"
   ]
  },
  {
   "cell_type": "markdown",
   "metadata": {},
   "source": [
    "# apply model to all 2017 data"
   ]
  },
  {
   "cell_type": "code",
   "execution_count": 41,
   "metadata": {},
   "outputs": [],
   "source": [
    "y_pred = clf.predict(X)"
   ]
  },
  {
   "cell_type": "code",
   "execution_count": 42,
   "metadata": {},
   "outputs": [
    {
     "name": "stdout",
     "output_type": "stream",
     "text": [
      "              precision    recall  f1-score   support\n",
      "\n",
      "           0       0.67      0.81      0.73     33672\n",
      "           1       0.00      0.00      0.00       380\n",
      "           2       0.33      0.15      0.21      4558\n",
      "           3       0.60      0.78      0.68     35971\n",
      "           4       0.49      0.08      0.14      3829\n",
      "           5       0.00      0.00      0.00      4035\n",
      "           6       0.58      0.45      0.51      4684\n",
      "           7       0.64      0.68      0.66     27808\n",
      "           8       0.28      0.02      0.03      2309\n",
      "           9       0.32      0.00      0.01      5766\n",
      "\n",
      "   micro avg       0.63      0.63      0.63    123012\n",
      "   macro avg       0.39      0.30      0.30    123012\n",
      "weighted avg       0.58      0.63      0.58    123012\n",
      "\n",
      "[[27195     0   401  2981    87     0    87  2885    27     9]\n",
      " [   59     0     4   173     5     0     9   130     0     0]\n",
      " [ 1916     0   691  1273    13     0    20   598    46     1]\n",
      " [ 2655     0   395 28100    59     1   841  3865    31    24]\n",
      " [ 1570     0    11  1105   322     0    49   770     2     0]\n",
      " [  353     0    18  2885    10     0   180   584     1     4]\n",
      " [  149     0     3  2047     6     0  2115   363     0     1]\n",
      " [ 3836     0    39  4746    55     0   218 18900     2    12]\n",
      " [  636     0   450   851    12     0    21   295    43     1]\n",
      " [ 1989     0    63  2377    84     0    76  1152     1    24]]\n"
     ]
    },
    {
     "name": "stderr",
     "output_type": "stream",
     "text": [
      "C:\\Users\\Qingyu\\Anaconda3\\envs\\project2env\\lib\\site-packages\\sklearn\\metrics\\classification.py:1143: UndefinedMetricWarning: Precision and F-score are ill-defined and being set to 0.0 in labels with no predicted samples.\n",
      "  'precision', 'predicted', average, warn_for)\n",
      "C:\\Users\\Qingyu\\Anaconda3\\envs\\project2env\\lib\\site-packages\\sklearn\\metrics\\classification.py:1143: UndefinedMetricWarning: Precision and F-score are ill-defined and being set to 0.0 in labels with no predicted samples.\n",
      "  'precision', 'predicted', average, warn_for)\n",
      "C:\\Users\\Qingyu\\Anaconda3\\envs\\project2env\\lib\\site-packages\\sklearn\\metrics\\classification.py:1143: UndefinedMetricWarning: Precision and F-score are ill-defined and being set to 0.0 in labels with no predicted samples.\n",
      "  'precision', 'predicted', average, warn_for)\n"
     ]
    }
   ],
   "source": [
    "print(metrics.classification_report(y, y_pred))\n",
    "print(metrics.confusion_matrix(y, y_pred))"
   ]
  },
  {
   "cell_type": "code",
   "execution_count": null,
   "metadata": {},
   "outputs": [],
   "source": []
  },
  {
   "cell_type": "markdown",
   "metadata": {},
   "source": [
    "# Random Forest"
   ]
  },
  {
   "cell_type": "code",
   "execution_count": null,
   "metadata": {},
   "outputs": [],
   "source": []
  },
  {
   "cell_type": "code",
   "execution_count": 24,
   "metadata": {},
   "outputs": [],
   "source": [
    "from sklearn.ensemble import RandomForestClassifier\n",
    "from sklearn.model_selection import train_test_split\n",
    "from sklearn import metrics"
   ]
  },
  {
   "cell_type": "code",
   "execution_count": 15,
   "metadata": {},
   "outputs": [],
   "source": [
    "# df_sample = df.sample(frac=0.1, replace=True,random_state=0)"
   ]
  },
  {
   "cell_type": "code",
   "execution_count": 25,
   "metadata": {},
   "outputs": [],
   "source": [
    "df_sample = df"
   ]
  },
  {
   "cell_type": "code",
   "execution_count": 9,
   "metadata": {},
   "outputs": [],
   "source": [
    "df_sample = df[df['Crash_Year'].isin([2014,2015,2016,2017])]"
   ]
  },
  {
   "cell_type": "code",
   "execution_count": 26,
   "metadata": {},
   "outputs": [],
   "source": [
    "X = df_sample[feature_list].values\n",
    "y = df_sample.Collision_Type_num.values"
   ]
  },
  {
   "cell_type": "code",
   "execution_count": 11,
   "metadata": {},
   "outputs": [],
   "source": [
    "df_sample = df[df['Crash_Year'].isin([2013])]\n",
    "X_2013 = df_sample[feature_list].values\n",
    "y_2013 = df_sample.Collision_Type_num.values"
   ]
  },
  {
   "cell_type": "code",
   "execution_count": 27,
   "metadata": {},
   "outputs": [],
   "source": [
    "X_train, X_test, y_train, y_test = train_test_split(X, y, test_size=0.2, random_state=0)"
   ]
  },
  {
   "cell_type": "markdown",
   "metadata": {},
   "source": [
    "## best parameters\n",
    "RandomForestClassifier(bootstrap=False,\n",
    "            max_depth=40,\n",
    "            max_features='auto',\n",
    "            min_samples_leaf=1,\n",
    "            min_samples_split=10,\n",
    "            n_estimators=600,\n",
    "            random_state=0)"
   ]
  },
  {
   "cell_type": "markdown",
   "metadata": {},
   "source": [
    "## train on 2017 test on 2016"
   ]
  },
  {
   "cell_type": "code",
   "execution_count": 11,
   "metadata": {},
   "outputs": [
    {
     "name": "stdout",
     "output_type": "stream",
     "text": [
      "Time spent: 0:14:23.409327\n"
     ]
    }
   ],
   "source": [
    "times1 = datetime.now()\n",
    "clf = RandomForestClassifier(n_estimators=200, random_state=0)\n",
    "# clf = RandomForestClassifier(bootstrap=False, # default True\n",
    "#                              max_depth=40, # default None\n",
    "#                              max_features='auto', # default auto\n",
    "#                              min_samples_leaf=1, # default 1\n",
    "#                              min_samples_split=10, # default 2\n",
    "#                              n_estimators=600, # default 10\n",
    "#                              random_state=0)\n",
    "clf.fit(X_train, y_train)\n",
    "y_pred = clf.predict(X_test)\n",
    "times2 = datetime.now()\n",
    "print('Time spent: '+ str(times2-times1)) # print the time cost"
   ]
  },
  {
   "cell_type": "code",
   "execution_count": null,
   "metadata": {},
   "outputs": [],
   "source": []
  },
  {
   "cell_type": "code",
   "execution_count": null,
   "metadata": {},
   "outputs": [],
   "source": []
  },
  {
   "cell_type": "code",
   "execution_count": 28,
   "metadata": {},
   "outputs": [
    {
     "name": "stdout",
     "output_type": "stream",
     "text": [
      "Time spent: 0:12:19.287244\n"
     ]
    }
   ],
   "source": [
    "times1 = datetime.now()\n",
    "clf = RandomForestClassifier(n_estimators=200, random_state=0)\n",
    "# clf = RandomForestClassifier(bootstrap=False, # default True\n",
    "#                              max_depth=None, # default None\n",
    "#                              max_features='auto', # default auto\n",
    "#                              min_samples_leaf=10, # default 1\n",
    "#                              min_samples_split=20, # default 2\n",
    "#                              n_estimators=100, # default 10\n",
    "#                              random_state=0)\n",
    "clf.fit(X_train, y_train)\n",
    "y_pred = clf.predict(X_test)\n",
    "times2 = datetime.now()\n",
    "print('Time spent: '+ str(times2-times1)) # print the time cost"
   ]
  },
  {
   "cell_type": "code",
   "execution_count": null,
   "metadata": {},
   "outputs": [],
   "source": [
    "clf.feature_importances_"
   ]
  },
  {
   "cell_type": "code",
   "execution_count": null,
   "metadata": {},
   "outputs": [],
   "source": []
  },
  {
   "cell_type": "code",
   "execution_count": 12,
   "metadata": {},
   "outputs": [
    {
     "name": "stdout",
     "output_type": "stream",
     "text": [
      "0.6437063653119357\n",
      "0.32082662179171817\n",
      "              precision    recall  f1-score   support\n",
      "\n",
      "           0       0.70      0.78      0.73     70608\n",
      "           1       0.03      0.00      0.00       429\n",
      "           2       0.33      0.08      0.12      9804\n",
      "           3       0.64      0.82      0.72     85517\n",
      "           4       0.40      0.25      0.30      8759\n",
      "           5       0.18      0.02      0.03      9808\n",
      "           6       0.60      0.47      0.53      9100\n",
      "           7       0.66      0.67      0.66     58267\n",
      "           8       0.23      0.03      0.06      5334\n",
      "           9       0.28      0.09      0.14     10939\n",
      "\n",
      "   micro avg       0.64      0.64      0.64    268565\n",
      "   macro avg       0.40      0.32      0.33    268565\n",
      "weighted avg       0.60      0.64      0.61    268565\n",
      "\n",
      "[[54801     4   460  7473  1139    80   184  5687   148   632]\n",
      " [  114     1     1   142    33     6     3   108     3    18]\n",
      " [ 4131     0   741  3333   117    15    52  1117   197   101]\n",
      " [ 3935     3   316 70455   475   299  1650  7578   119   687]\n",
      " [ 3058     9    50  1662  2157    43   107  1359    29   285]\n",
      " [  728     1    24  7200   104   166   385  1126    12    62]\n",
      " [  335     1    10  3758    35    93  4280   550     3    35]\n",
      " [ 6592    10    97 10495   721   152   369 39075    44   712]\n",
      " [ 1576     1   491  2227   139    11    34   590   171    94]\n",
      " [ 3340     1    72  3510   510    43   111  2288    34  1030]]\n"
     ]
    }
   ],
   "source": [
    "# default model\n",
    "# print(metrics.f1_score(y_test, y_pred,average=None))\n",
    "print(clf.score(X_test, y_test))\n",
    "print(metrics.balanced_accuracy_score(y_test, y_pred))\n",
    "print(metrics.classification_report(y_test, y_pred))\n",
    "print(metrics.confusion_matrix(y_test, y_pred))"
   ]
  },
  {
   "cell_type": "code",
   "execution_count": null,
   "metadata": {},
   "outputs": [],
   "source": []
  },
  {
   "cell_type": "code",
   "execution_count": null,
   "metadata": {},
   "outputs": [],
   "source": []
  },
  {
   "cell_type": "code",
   "execution_count": 14,
   "metadata": {},
   "outputs": [
    {
     "name": "stdout",
     "output_type": "stream",
     "text": [
      "0.6675354656141788\n",
      "0.363222808785333\n",
      "              precision    recall  f1-score   support\n",
      "\n",
      "           0       0.72      0.80      0.76      7088\n",
      "           1       0.64      0.12      0.21        56\n",
      "           2       0.61      0.13      0.21      1024\n",
      "           3       0.64      0.85      0.73      8499\n",
      "           4       0.49      0.25      0.33       926\n",
      "           5       0.62      0.07      0.13       947\n",
      "           6       0.66      0.49      0.56       890\n",
      "           7       0.67      0.68      0.67      5832\n",
      "           8       0.60      0.10      0.18       513\n",
      "           9       0.43      0.13      0.20      1082\n",
      "\n",
      "   micro avg       0.67      0.67      0.67     26857\n",
      "   macro avg       0.61      0.36      0.40     26857\n",
      "weighted avg       0.65      0.67      0.63     26857\n",
      "\n",
      "[[5702    1   16  743   73    5   12  498    7   31]\n",
      " [  12    7    0   22    3    0    0   11    0    1]\n",
      " [ 393    0  132  336   12    1    6  114   18   12]\n",
      " [ 352    2   22 7202   42   17  109  702    3   48]\n",
      " [ 299    1    1  178  229    2   18  157    4   37]\n",
      " [  64    0    5  658    6   70   34  107    1    2]\n",
      " [  28    0    0  373    1    5  438   43    0    2]\n",
      " [ 645    0    5 1083   53   10   32 3952    1   51]\n",
      " [ 141    0   27  218    8    1    4   58   53    3]\n",
      " [ 279    0    7  364   39    2    9  238    1  143]]\n"
     ]
    }
   ],
   "source": [
    "# n_estimators=200, random_state=0\n",
    "\n",
    "# print(metrics.f1_score(y_test, y_pred,average=None))\n",
    "print(clf.score(X_test, y_test))\n",
    "print(metrics.balanced_accuracy_score(y_test, y_pred))\n",
    "print(metrics.classification_report(y_test, y_pred))\n",
    "print(metrics.confusion_matrix(y_test, y_pred))"
   ]
  },
  {
   "cell_type": "code",
   "execution_count": null,
   "metadata": {},
   "outputs": [],
   "source": []
  },
  {
   "cell_type": "code",
   "execution_count": null,
   "metadata": {},
   "outputs": [],
   "source": []
  },
  {
   "cell_type": "markdown",
   "metadata": {},
   "source": [
    "# RandomizedSearchCV"
   ]
  },
  {
   "cell_type": "code",
   "execution_count": 17,
   "metadata": {},
   "outputs": [],
   "source": [
    "clf = RandomForestClassifier(n_estimators=100, random_state=0)"
   ]
  },
  {
   "cell_type": "code",
   "execution_count": 18,
   "metadata": {},
   "outputs": [],
   "source": [
    "nfolds = 3\n",
    "# Number of trees in random forest\n",
    "n_estimators = [int(x) for x in np.linspace(start = 200, stop = 1000, num = 5)]\n",
    "# Number of features to consider at every split\n",
    "max_features = ['auto', 'sqrt']\n",
    "# Maximum number of levels in tree\n",
    "max_depth = [int(x) for x in np.linspace(10, 110, num = 11)]\n",
    "max_depth.append(None)\n",
    "# Minimum number of samples required to split a node\n",
    "min_samples_split = [2, 5, 10]\n",
    "# Minimum number of samples required at each leaf node\n",
    "min_samples_leaf = [1, 2, 4]\n",
    "# Method of selecting samples for training each tree\n",
    "bootstrap = [True, False]"
   ]
  },
  {
   "cell_type": "code",
   "execution_count": 19,
   "metadata": {},
   "outputs": [],
   "source": [
    "params_grid = {'n_estimators': n_estimators,\n",
    "               'max_features': max_features,\n",
    "               'max_depth': max_depth,\n",
    "               'min_samples_split': min_samples_split,\n",
    "               'min_samples_leaf': min_samples_leaf,\n",
    "               'bootstrap': bootstrap}"
   ]
  },
  {
   "cell_type": "code",
   "execution_count": 20,
   "metadata": {},
   "outputs": [],
   "source": [
    "from sklearn.model_selection import RandomizedSearchCV"
   ]
  },
  {
   "cell_type": "code",
   "execution_count": 21,
   "metadata": {},
   "outputs": [],
   "source": [
    "randomized = RandomizedSearchCV(clf, param_distributions=params_grid, n_iter = 20, cv=nfolds, scoring='balanced_accuracy',verbose=10,n_jobs=-1)"
   ]
  },
  {
   "cell_type": "code",
   "execution_count": 22,
   "metadata": {
    "scrolled": false
   },
   "outputs": [
    {
     "name": "stdout",
     "output_type": "stream",
     "text": [
      "Fitting 3 folds for each of 20 candidates, totalling 60 fits\n"
     ]
    },
    {
     "name": "stderr",
     "output_type": "stream",
     "text": [
      "[Parallel(n_jobs=-1)]: Using backend LokyBackend with 6 concurrent workers.\n",
      "[Parallel(n_jobs=-1)]: Done   1 tasks      | elapsed:   45.0s\n",
      "[Parallel(n_jobs=-1)]: Done   6 tasks      | elapsed:  2.3min\n",
      "[Parallel(n_jobs=-1)]: Done  13 tasks      | elapsed:  3.8min\n",
      "[Parallel(n_jobs=-1)]: Done  20 tasks      | elapsed:  5.3min\n",
      "[Parallel(n_jobs=-1)]: Done  29 tasks      | elapsed:  9.1min\n",
      "[Parallel(n_jobs=-1)]: Done  38 tasks      | elapsed: 12.6min\n",
      "[Parallel(n_jobs=-1)]: Done  49 tasks      | elapsed: 15.8min\n",
      "[Parallel(n_jobs=-1)]: Done  56 out of  60 | elapsed: 17.2min remaining:  1.2min\n",
      "[Parallel(n_jobs=-1)]: Done  60 out of  60 | elapsed: 17.6min finished\n"
     ]
    },
    {
     "name": "stdout",
     "output_type": "stream",
     "text": [
      "Time spent: 0:19:24.399566\n"
     ]
    }
   ],
   "source": [
    "times1 = datetime.now()\n",
    "randomized.fit(X, y)\n",
    "times2 = datetime.now()\n",
    "print('Time spent: '+ str(times2-times1)) # print the time cost"
   ]
  },
  {
   "cell_type": "code",
   "execution_count": 23,
   "metadata": {},
   "outputs": [
    {
     "data": {
      "text/plain": [
       "RandomForestClassifier(bootstrap=False, class_weight=None, criterion='gini',\n",
       "            max_depth=None, max_features='auto', max_leaf_nodes=None,\n",
       "            min_impurity_decrease=0.0, min_impurity_split=None,\n",
       "            min_samples_leaf=1, min_samples_split=2,\n",
       "            min_weight_fraction_leaf=0.0, n_estimators=600, n_jobs=None,\n",
       "            oob_score=False, random_state=0, verbose=0, warm_start=False)"
      ]
     },
     "execution_count": 23,
     "metadata": {},
     "output_type": "execute_result"
    }
   ],
   "source": [
    "randomized.best_estimator_"
   ]
  },
  {
   "cell_type": "code",
   "execution_count": 25,
   "metadata": {},
   "outputs": [
    {
     "data": {
      "text/plain": [
       "0.32171657664166065"
      ]
     },
     "execution_count": 25,
     "metadata": {},
     "output_type": "execute_result"
    }
   ],
   "source": [
    "randomized.best_score_"
   ]
  },
  {
   "cell_type": "code",
   "execution_count": null,
   "metadata": {},
   "outputs": [],
   "source": []
  }
 ],
 "metadata": {
  "kernelspec": {
   "display_name": "Python 3",
   "language": "python",
   "name": "python3"
  },
  "language_info": {
   "codemirror_mode": {
    "name": "ipython",
    "version": 3
   },
   "file_extension": ".py",
   "mimetype": "text/x-python",
   "name": "python",
   "nbconvert_exporter": "python",
   "pygments_lexer": "ipython3",
   "version": "3.6.7"
  }
 },
 "nbformat": 4,
 "nbformat_minor": 2
}
